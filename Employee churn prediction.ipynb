{
 "cells": [
  {
   "cell_type": "markdown",
   "metadata": {},
   "source": [
    "# Final project"
   ]
  },
  {
   "cell_type": "markdown",
   "metadata": {},
   "source": [
    "## Employee churn prediction"
   ]
  },
  {
   "cell_type": "code",
   "execution_count": 605,
   "metadata": {},
   "outputs": [],
   "source": [
    "import pandas as pd\n",
    "import numpy as np\n",
    "import matplotlib.pyplot as plt\n",
    "import seaborn as sns\n",
    "import statsmodels.api as sm"
   ]
  },
  {
   "cell_type": "markdown",
   "metadata": {},
   "source": [
    "### Reading the data"
   ]
  },
  {
   "cell_type": "code",
   "execution_count": 606,
   "metadata": {},
   "outputs": [],
   "source": [
    "data = pd.read_csv('turnover.csv', encoding='latin-1')"
   ]
  },
  {
   "cell_type": "code",
   "execution_count": 607,
   "metadata": {},
   "outputs": [
    {
     "data": {
      "text/plain": [
       "(1129, 16)"
      ]
     },
     "execution_count": 607,
     "metadata": {},
     "output_type": "execute_result"
    }
   ],
   "source": [
    "data.shape"
   ]
  },
  {
   "cell_type": "markdown",
   "metadata": {},
   "source": [
    "### Data exploration"
   ]
  },
  {
   "cell_type": "code",
   "execution_count": 608,
   "metadata": {
    "scrolled": true
   },
   "outputs": [
    {
     "data": {
      "text/html": [
       "<div>\n",
       "<style scoped>\n",
       "    .dataframe tbody tr th:only-of-type {\n",
       "        vertical-align: middle;\n",
       "    }\n",
       "\n",
       "    .dataframe tbody tr th {\n",
       "        vertical-align: top;\n",
       "    }\n",
       "\n",
       "    .dataframe thead th {\n",
       "        text-align: right;\n",
       "    }\n",
       "</style>\n",
       "<table border=\"1\" class=\"dataframe\">\n",
       "  <thead>\n",
       "    <tr style=\"text-align: right;\">\n",
       "      <th></th>\n",
       "      <th>stag</th>\n",
       "      <th>event</th>\n",
       "      <th>gender</th>\n",
       "      <th>age</th>\n",
       "      <th>industry</th>\n",
       "      <th>profession</th>\n",
       "      <th>traffic</th>\n",
       "      <th>coach</th>\n",
       "      <th>head_gender</th>\n",
       "      <th>greywage</th>\n",
       "      <th>way</th>\n",
       "      <th>extraversion</th>\n",
       "      <th>independ</th>\n",
       "      <th>selfcontrol</th>\n",
       "      <th>anxiety</th>\n",
       "      <th>novator</th>\n",
       "    </tr>\n",
       "  </thead>\n",
       "  <tbody>\n",
       "    <tr>\n",
       "      <th>0</th>\n",
       "      <td>7.030801</td>\n",
       "      <td>1</td>\n",
       "      <td>m</td>\n",
       "      <td>35.0</td>\n",
       "      <td>Banks</td>\n",
       "      <td>HR</td>\n",
       "      <td>rabrecNErab</td>\n",
       "      <td>no</td>\n",
       "      <td>f</td>\n",
       "      <td>white</td>\n",
       "      <td>bus</td>\n",
       "      <td>6.2</td>\n",
       "      <td>4.1</td>\n",
       "      <td>5.7</td>\n",
       "      <td>7.1</td>\n",
       "      <td>8.3</td>\n",
       "    </tr>\n",
       "    <tr>\n",
       "      <th>1</th>\n",
       "      <td>22.965092</td>\n",
       "      <td>1</td>\n",
       "      <td>m</td>\n",
       "      <td>33.0</td>\n",
       "      <td>Banks</td>\n",
       "      <td>HR</td>\n",
       "      <td>empjs</td>\n",
       "      <td>no</td>\n",
       "      <td>m</td>\n",
       "      <td>white</td>\n",
       "      <td>bus</td>\n",
       "      <td>6.2</td>\n",
       "      <td>4.1</td>\n",
       "      <td>5.7</td>\n",
       "      <td>7.1</td>\n",
       "      <td>8.3</td>\n",
       "    </tr>\n",
       "    <tr>\n",
       "      <th>2</th>\n",
       "      <td>15.934292</td>\n",
       "      <td>1</td>\n",
       "      <td>f</td>\n",
       "      <td>35.0</td>\n",
       "      <td>PowerGeneration</td>\n",
       "      <td>HR</td>\n",
       "      <td>rabrecNErab</td>\n",
       "      <td>no</td>\n",
       "      <td>m</td>\n",
       "      <td>white</td>\n",
       "      <td>bus</td>\n",
       "      <td>6.2</td>\n",
       "      <td>6.2</td>\n",
       "      <td>2.6</td>\n",
       "      <td>4.8</td>\n",
       "      <td>8.3</td>\n",
       "    </tr>\n",
       "    <tr>\n",
       "      <th>3</th>\n",
       "      <td>15.934292</td>\n",
       "      <td>1</td>\n",
       "      <td>f</td>\n",
       "      <td>35.0</td>\n",
       "      <td>PowerGeneration</td>\n",
       "      <td>HR</td>\n",
       "      <td>rabrecNErab</td>\n",
       "      <td>no</td>\n",
       "      <td>m</td>\n",
       "      <td>white</td>\n",
       "      <td>bus</td>\n",
       "      <td>5.4</td>\n",
       "      <td>7.6</td>\n",
       "      <td>4.9</td>\n",
       "      <td>2.5</td>\n",
       "      <td>6.7</td>\n",
       "    </tr>\n",
       "    <tr>\n",
       "      <th>4</th>\n",
       "      <td>8.410678</td>\n",
       "      <td>1</td>\n",
       "      <td>m</td>\n",
       "      <td>32.0</td>\n",
       "      <td>Retail</td>\n",
       "      <td>Commercial</td>\n",
       "      <td>youjs</td>\n",
       "      <td>yes</td>\n",
       "      <td>f</td>\n",
       "      <td>white</td>\n",
       "      <td>bus</td>\n",
       "      <td>3.0</td>\n",
       "      <td>4.1</td>\n",
       "      <td>8.0</td>\n",
       "      <td>7.1</td>\n",
       "      <td>3.7</td>\n",
       "    </tr>\n",
       "  </tbody>\n",
       "</table>\n",
       "</div>"
      ],
      "text/plain": [
       "        stag  event gender   age         industry  profession      traffic  \\\n",
       "0   7.030801      1      m  35.0            Banks          HR  rabrecNErab   \n",
       "1  22.965092      1      m  33.0            Banks          HR        empjs   \n",
       "2  15.934292      1      f  35.0  PowerGeneration          HR  rabrecNErab   \n",
       "3  15.934292      1      f  35.0  PowerGeneration          HR  rabrecNErab   \n",
       "4   8.410678      1      m  32.0           Retail  Commercial        youjs   \n",
       "\n",
       "  coach head_gender greywage  way  extraversion  independ  selfcontrol  \\\n",
       "0    no           f    white  bus           6.2       4.1          5.7   \n",
       "1    no           m    white  bus           6.2       4.1          5.7   \n",
       "2    no           m    white  bus           6.2       6.2          2.6   \n",
       "3    no           m    white  bus           5.4       7.6          4.9   \n",
       "4   yes           f    white  bus           3.0       4.1          8.0   \n",
       "\n",
       "   anxiety  novator  \n",
       "0      7.1      8.3  \n",
       "1      7.1      8.3  \n",
       "2      4.8      8.3  \n",
       "3      2.5      6.7  \n",
       "4      7.1      3.7  "
      ]
     },
     "execution_count": 608,
     "metadata": {},
     "output_type": "execute_result"
    }
   ],
   "source": [
    "# Preview the data\n",
    "data.head()"
   ]
  },
  {
   "cell_type": "markdown",
   "metadata": {},
   "source": [
    " <h1> Information about dataset </h1>\n",
    "\n",
    "- stag - work experience (time) \n",
    "- event - employee churn \n",
    "- gender,\tage, industry, profession - employee gender, age, industry, profession \n",
    "- traffic - source of hire \n",
    "- coach - presence of a coach on probation \n",
    "- head_gender - head gender \n",
    "- greywage - type of wage(taxing or no) \n",
    "- way - way of transportation  "
   ]
  },
  {
   "cell_type": "markdown",
   "metadata": {},
   "source": [
    "##### The Big Five Personality Test results(OCEAN) \n",
    "- novator - Openness (բացություն փորձին)\n",
    "- selfcontrol - Conscientiousness (պլանավորում)\n",
    "- extraversion - Extraversion \n",
    "- independ - reverse Agreeableness(բարյացակամություն, հարմարվողականություն) \n",
    "- anxiety - Neuroticism(զայրույթ, տագնապ)"
   ]
  },
  {
   "cell_type": "code",
   "execution_count": 609,
   "metadata": {},
   "outputs": [
    {
     "name": "stdout",
     "output_type": "stream",
     "text": [
      "<class 'pandas.core.frame.DataFrame'>\n",
      "RangeIndex: 1129 entries, 0 to 1128\n",
      "Data columns (total 16 columns):\n",
      " #   Column        Non-Null Count  Dtype  \n",
      "---  ------        --------------  -----  \n",
      " 0   stag          1129 non-null   float64\n",
      " 1   event         1129 non-null   int64  \n",
      " 2   gender        1129 non-null   object \n",
      " 3   age           1129 non-null   float64\n",
      " 4   industry      1129 non-null   object \n",
      " 5   profession    1129 non-null   object \n",
      " 6   traffic       1129 non-null   object \n",
      " 7   coach         1129 non-null   object \n",
      " 8   head_gender   1129 non-null   object \n",
      " 9   greywage      1129 non-null   object \n",
      " 10  way           1129 non-null   object \n",
      " 11  extraversion  1129 non-null   float64\n",
      " 12  independ      1129 non-null   float64\n",
      " 13  selfcontrol   1129 non-null   float64\n",
      " 14  anxiety       1129 non-null   float64\n",
      " 15  novator       1129 non-null   float64\n",
      "dtypes: float64(7), int64(1), object(8)\n",
      "memory usage: 141.2+ KB\n"
     ]
    }
   ],
   "source": [
    "data.info()"
   ]
  },
  {
   "cell_type": "markdown",
   "metadata": {},
   "source": [
    "#### Statistics for columns with object type\n"
   ]
  },
  {
   "cell_type": "code",
   "execution_count": 610,
   "metadata": {},
   "outputs": [
    {
     "data": {
      "text/html": [
       "<div>\n",
       "<style scoped>\n",
       "    .dataframe tbody tr th:only-of-type {\n",
       "        vertical-align: middle;\n",
       "    }\n",
       "\n",
       "    .dataframe tbody tr th {\n",
       "        vertical-align: top;\n",
       "    }\n",
       "\n",
       "    .dataframe thead th {\n",
       "        text-align: right;\n",
       "    }\n",
       "</style>\n",
       "<table border=\"1\" class=\"dataframe\">\n",
       "  <thead>\n",
       "    <tr style=\"text-align: right;\">\n",
       "      <th></th>\n",
       "      <th>gender</th>\n",
       "      <th>industry</th>\n",
       "      <th>profession</th>\n",
       "      <th>traffic</th>\n",
       "      <th>coach</th>\n",
       "      <th>head_gender</th>\n",
       "      <th>greywage</th>\n",
       "      <th>way</th>\n",
       "    </tr>\n",
       "  </thead>\n",
       "  <tbody>\n",
       "    <tr>\n",
       "      <th>count</th>\n",
       "      <td>1129</td>\n",
       "      <td>1129</td>\n",
       "      <td>1129</td>\n",
       "      <td>1129</td>\n",
       "      <td>1129</td>\n",
       "      <td>1129</td>\n",
       "      <td>1129</td>\n",
       "      <td>1129</td>\n",
       "    </tr>\n",
       "    <tr>\n",
       "      <th>unique</th>\n",
       "      <td>2</td>\n",
       "      <td>16</td>\n",
       "      <td>15</td>\n",
       "      <td>8</td>\n",
       "      <td>3</td>\n",
       "      <td>2</td>\n",
       "      <td>2</td>\n",
       "      <td>3</td>\n",
       "    </tr>\n",
       "    <tr>\n",
       "      <th>top</th>\n",
       "      <td>f</td>\n",
       "      <td>Retail</td>\n",
       "      <td>HR</td>\n",
       "      <td>youjs</td>\n",
       "      <td>no</td>\n",
       "      <td>m</td>\n",
       "      <td>white</td>\n",
       "      <td>bus</td>\n",
       "    </tr>\n",
       "    <tr>\n",
       "      <th>freq</th>\n",
       "      <td>853</td>\n",
       "      <td>289</td>\n",
       "      <td>757</td>\n",
       "      <td>318</td>\n",
       "      <td>683</td>\n",
       "      <td>584</td>\n",
       "      <td>1002</td>\n",
       "      <td>681</td>\n",
       "    </tr>\n",
       "  </tbody>\n",
       "</table>\n",
       "</div>"
      ],
      "text/plain": [
       "       gender industry profession traffic coach head_gender greywage   way\n",
       "count    1129     1129       1129    1129  1129        1129     1129  1129\n",
       "unique      2       16         15       8     3           2        2     3\n",
       "top         f   Retail         HR   youjs    no           m    white   bus\n",
       "freq      853      289        757     318   683         584     1002   681"
      ]
     },
     "execution_count": 610,
     "metadata": {},
     "output_type": "execute_result"
    }
   ],
   "source": [
    "data.describe(include=['object'])"
   ]
  },
  {
   "cell_type": "markdown",
   "metadata": {},
   "source": [
    "#### The distribution of numerical feature values"
   ]
  },
  {
   "cell_type": "code",
   "execution_count": 611,
   "metadata": {},
   "outputs": [
    {
     "data": {
      "text/html": [
       "<div>\n",
       "<style scoped>\n",
       "    .dataframe tbody tr th:only-of-type {\n",
       "        vertical-align: middle;\n",
       "    }\n",
       "\n",
       "    .dataframe tbody tr th {\n",
       "        vertical-align: top;\n",
       "    }\n",
       "\n",
       "    .dataframe thead th {\n",
       "        text-align: right;\n",
       "    }\n",
       "</style>\n",
       "<table border=\"1\" class=\"dataframe\">\n",
       "  <thead>\n",
       "    <tr style=\"text-align: right;\">\n",
       "      <th></th>\n",
       "      <th>stag</th>\n",
       "      <th>event</th>\n",
       "      <th>age</th>\n",
       "      <th>extraversion</th>\n",
       "      <th>independ</th>\n",
       "      <th>selfcontrol</th>\n",
       "      <th>anxiety</th>\n",
       "      <th>novator</th>\n",
       "    </tr>\n",
       "  </thead>\n",
       "  <tbody>\n",
       "    <tr>\n",
       "      <th>count</th>\n",
       "      <td>1129.000000</td>\n",
       "      <td>1129.000000</td>\n",
       "      <td>1129.000000</td>\n",
       "      <td>1129.000000</td>\n",
       "      <td>1129.000000</td>\n",
       "      <td>1129.000000</td>\n",
       "      <td>1129.000000</td>\n",
       "      <td>1129.000000</td>\n",
       "    </tr>\n",
       "    <tr>\n",
       "      <th>mean</th>\n",
       "      <td>36.627526</td>\n",
       "      <td>0.505757</td>\n",
       "      <td>31.066965</td>\n",
       "      <td>5.592383</td>\n",
       "      <td>5.478034</td>\n",
       "      <td>5.597254</td>\n",
       "      <td>5.665633</td>\n",
       "      <td>5.879628</td>\n",
       "    </tr>\n",
       "    <tr>\n",
       "      <th>std</th>\n",
       "      <td>34.096597</td>\n",
       "      <td>0.500188</td>\n",
       "      <td>6.996147</td>\n",
       "      <td>1.851637</td>\n",
       "      <td>1.703312</td>\n",
       "      <td>1.980101</td>\n",
       "      <td>1.709176</td>\n",
       "      <td>1.904016</td>\n",
       "    </tr>\n",
       "    <tr>\n",
       "      <th>min</th>\n",
       "      <td>0.394251</td>\n",
       "      <td>0.000000</td>\n",
       "      <td>18.000000</td>\n",
       "      <td>1.000000</td>\n",
       "      <td>1.000000</td>\n",
       "      <td>1.000000</td>\n",
       "      <td>1.700000</td>\n",
       "      <td>1.000000</td>\n",
       "    </tr>\n",
       "    <tr>\n",
       "      <th>25%</th>\n",
       "      <td>11.728953</td>\n",
       "      <td>0.000000</td>\n",
       "      <td>26.000000</td>\n",
       "      <td>4.600000</td>\n",
       "      <td>4.100000</td>\n",
       "      <td>4.100000</td>\n",
       "      <td>4.800000</td>\n",
       "      <td>4.400000</td>\n",
       "    </tr>\n",
       "    <tr>\n",
       "      <th>50%</th>\n",
       "      <td>24.344969</td>\n",
       "      <td>1.000000</td>\n",
       "      <td>30.000000</td>\n",
       "      <td>5.400000</td>\n",
       "      <td>5.500000</td>\n",
       "      <td>5.700000</td>\n",
       "      <td>5.600000</td>\n",
       "      <td>6.000000</td>\n",
       "    </tr>\n",
       "    <tr>\n",
       "      <th>75%</th>\n",
       "      <td>51.318275</td>\n",
       "      <td>1.000000</td>\n",
       "      <td>36.000000</td>\n",
       "      <td>7.000000</td>\n",
       "      <td>6.900000</td>\n",
       "      <td>7.200000</td>\n",
       "      <td>7.100000</td>\n",
       "      <td>7.500000</td>\n",
       "    </tr>\n",
       "    <tr>\n",
       "      <th>max</th>\n",
       "      <td>179.449692</td>\n",
       "      <td>1.000000</td>\n",
       "      <td>58.000000</td>\n",
       "      <td>10.000000</td>\n",
       "      <td>10.000000</td>\n",
       "      <td>10.000000</td>\n",
       "      <td>10.000000</td>\n",
       "      <td>10.000000</td>\n",
       "    </tr>\n",
       "  </tbody>\n",
       "</table>\n",
       "</div>"
      ],
      "text/plain": [
       "              stag        event          age  extraversion     independ  \\\n",
       "count  1129.000000  1129.000000  1129.000000   1129.000000  1129.000000   \n",
       "mean     36.627526     0.505757    31.066965      5.592383     5.478034   \n",
       "std      34.096597     0.500188     6.996147      1.851637     1.703312   \n",
       "min       0.394251     0.000000    18.000000      1.000000     1.000000   \n",
       "25%      11.728953     0.000000    26.000000      4.600000     4.100000   \n",
       "50%      24.344969     1.000000    30.000000      5.400000     5.500000   \n",
       "75%      51.318275     1.000000    36.000000      7.000000     6.900000   \n",
       "max     179.449692     1.000000    58.000000     10.000000    10.000000   \n",
       "\n",
       "       selfcontrol      anxiety      novator  \n",
       "count  1129.000000  1129.000000  1129.000000  \n",
       "mean      5.597254     5.665633     5.879628  \n",
       "std       1.980101     1.709176     1.904016  \n",
       "min       1.000000     1.700000     1.000000  \n",
       "25%       4.100000     4.800000     4.400000  \n",
       "50%       5.700000     5.600000     6.000000  \n",
       "75%       7.200000     7.100000     7.500000  \n",
       "max      10.000000    10.000000    10.000000  "
      ]
     },
     "execution_count": 611,
     "metadata": {},
     "output_type": "execute_result"
    }
   ],
   "source": [
    "data.describe()"
   ]
  },
  {
   "cell_type": "markdown",
   "metadata": {},
   "source": [
    "###### Changing names  of some features"
   ]
  },
  {
   "cell_type": "code",
   "execution_count": 612,
   "metadata": {},
   "outputs": [],
   "source": [
    "df = data.copy() # making a copy of the original sourcefile\n",
    "\n",
    "# multiple columns names changed by adding elements to dict\n",
    "df = df.rename(columns={'stag': 'experience', 'event': 'churn', 'greywage': 'wage_type'})"
   ]
  },
  {
   "cell_type": "code",
   "execution_count": 613,
   "metadata": {
    "scrolled": false
   },
   "outputs": [
    {
     "data": {
      "text/html": [
       "<div>\n",
       "<style scoped>\n",
       "    .dataframe tbody tr th:only-of-type {\n",
       "        vertical-align: middle;\n",
       "    }\n",
       "\n",
       "    .dataframe tbody tr th {\n",
       "        vertical-align: top;\n",
       "    }\n",
       "\n",
       "    .dataframe thead th {\n",
       "        text-align: right;\n",
       "    }\n",
       "</style>\n",
       "<table border=\"1\" class=\"dataframe\">\n",
       "  <thead>\n",
       "    <tr style=\"text-align: right;\">\n",
       "      <th></th>\n",
       "      <th>experience</th>\n",
       "      <th>churn</th>\n",
       "      <th>gender</th>\n",
       "      <th>age</th>\n",
       "      <th>industry</th>\n",
       "      <th>profession</th>\n",
       "      <th>traffic</th>\n",
       "      <th>coach</th>\n",
       "      <th>head_gender</th>\n",
       "      <th>wage_type</th>\n",
       "      <th>way</th>\n",
       "      <th>extraversion</th>\n",
       "      <th>independ</th>\n",
       "      <th>selfcontrol</th>\n",
       "      <th>anxiety</th>\n",
       "      <th>novator</th>\n",
       "    </tr>\n",
       "  </thead>\n",
       "  <tbody>\n",
       "    <tr>\n",
       "      <th>0</th>\n",
       "      <td>7.030801</td>\n",
       "      <td>1</td>\n",
       "      <td>m</td>\n",
       "      <td>35.0</td>\n",
       "      <td>Banks</td>\n",
       "      <td>HR</td>\n",
       "      <td>rabrecNErab</td>\n",
       "      <td>no</td>\n",
       "      <td>f</td>\n",
       "      <td>white</td>\n",
       "      <td>bus</td>\n",
       "      <td>6.2</td>\n",
       "      <td>4.1</td>\n",
       "      <td>5.7</td>\n",
       "      <td>7.1</td>\n",
       "      <td>8.3</td>\n",
       "    </tr>\n",
       "    <tr>\n",
       "      <th>1</th>\n",
       "      <td>22.965092</td>\n",
       "      <td>1</td>\n",
       "      <td>m</td>\n",
       "      <td>33.0</td>\n",
       "      <td>Banks</td>\n",
       "      <td>HR</td>\n",
       "      <td>empjs</td>\n",
       "      <td>no</td>\n",
       "      <td>m</td>\n",
       "      <td>white</td>\n",
       "      <td>bus</td>\n",
       "      <td>6.2</td>\n",
       "      <td>4.1</td>\n",
       "      <td>5.7</td>\n",
       "      <td>7.1</td>\n",
       "      <td>8.3</td>\n",
       "    </tr>\n",
       "    <tr>\n",
       "      <th>2</th>\n",
       "      <td>15.934292</td>\n",
       "      <td>1</td>\n",
       "      <td>f</td>\n",
       "      <td>35.0</td>\n",
       "      <td>PowerGeneration</td>\n",
       "      <td>HR</td>\n",
       "      <td>rabrecNErab</td>\n",
       "      <td>no</td>\n",
       "      <td>m</td>\n",
       "      <td>white</td>\n",
       "      <td>bus</td>\n",
       "      <td>6.2</td>\n",
       "      <td>6.2</td>\n",
       "      <td>2.6</td>\n",
       "      <td>4.8</td>\n",
       "      <td>8.3</td>\n",
       "    </tr>\n",
       "    <tr>\n",
       "      <th>3</th>\n",
       "      <td>15.934292</td>\n",
       "      <td>1</td>\n",
       "      <td>f</td>\n",
       "      <td>35.0</td>\n",
       "      <td>PowerGeneration</td>\n",
       "      <td>HR</td>\n",
       "      <td>rabrecNErab</td>\n",
       "      <td>no</td>\n",
       "      <td>m</td>\n",
       "      <td>white</td>\n",
       "      <td>bus</td>\n",
       "      <td>5.4</td>\n",
       "      <td>7.6</td>\n",
       "      <td>4.9</td>\n",
       "      <td>2.5</td>\n",
       "      <td>6.7</td>\n",
       "    </tr>\n",
       "    <tr>\n",
       "      <th>4</th>\n",
       "      <td>8.410678</td>\n",
       "      <td>1</td>\n",
       "      <td>m</td>\n",
       "      <td>32.0</td>\n",
       "      <td>Retail</td>\n",
       "      <td>Commercial</td>\n",
       "      <td>youjs</td>\n",
       "      <td>yes</td>\n",
       "      <td>f</td>\n",
       "      <td>white</td>\n",
       "      <td>bus</td>\n",
       "      <td>3.0</td>\n",
       "      <td>4.1</td>\n",
       "      <td>8.0</td>\n",
       "      <td>7.1</td>\n",
       "      <td>3.7</td>\n",
       "    </tr>\n",
       "    <tr>\n",
       "      <th>...</th>\n",
       "      <td>...</td>\n",
       "      <td>...</td>\n",
       "      <td>...</td>\n",
       "      <td>...</td>\n",
       "      <td>...</td>\n",
       "      <td>...</td>\n",
       "      <td>...</td>\n",
       "      <td>...</td>\n",
       "      <td>...</td>\n",
       "      <td>...</td>\n",
       "      <td>...</td>\n",
       "      <td>...</td>\n",
       "      <td>...</td>\n",
       "      <td>...</td>\n",
       "      <td>...</td>\n",
       "      <td>...</td>\n",
       "    </tr>\n",
       "    <tr>\n",
       "      <th>1124</th>\n",
       "      <td>10.611910</td>\n",
       "      <td>0</td>\n",
       "      <td>f</td>\n",
       "      <td>41.0</td>\n",
       "      <td>Banks</td>\n",
       "      <td>HR</td>\n",
       "      <td>rabrecNErab</td>\n",
       "      <td>my head</td>\n",
       "      <td>m</td>\n",
       "      <td>white</td>\n",
       "      <td>bus</td>\n",
       "      <td>8.6</td>\n",
       "      <td>3.4</td>\n",
       "      <td>2.6</td>\n",
       "      <td>4.8</td>\n",
       "      <td>8.3</td>\n",
       "    </tr>\n",
       "    <tr>\n",
       "      <th>1125</th>\n",
       "      <td>10.611910</td>\n",
       "      <td>0</td>\n",
       "      <td>f</td>\n",
       "      <td>41.0</td>\n",
       "      <td>Banks</td>\n",
       "      <td>HR</td>\n",
       "      <td>rabrecNErab</td>\n",
       "      <td>my head</td>\n",
       "      <td>m</td>\n",
       "      <td>white</td>\n",
       "      <td>bus</td>\n",
       "      <td>8.6</td>\n",
       "      <td>3.4</td>\n",
       "      <td>2.6</td>\n",
       "      <td>4.8</td>\n",
       "      <td>8.3</td>\n",
       "    </tr>\n",
       "    <tr>\n",
       "      <th>1126</th>\n",
       "      <td>118.800821</td>\n",
       "      <td>0</td>\n",
       "      <td>f</td>\n",
       "      <td>34.0</td>\n",
       "      <td>Telecom</td>\n",
       "      <td>Accounting</td>\n",
       "      <td>KA</td>\n",
       "      <td>no</td>\n",
       "      <td>f</td>\n",
       "      <td>white</td>\n",
       "      <td>bus</td>\n",
       "      <td>4.6</td>\n",
       "      <td>5.5</td>\n",
       "      <td>7.2</td>\n",
       "      <td>6.3</td>\n",
       "      <td>3.7</td>\n",
       "    </tr>\n",
       "    <tr>\n",
       "      <th>1127</th>\n",
       "      <td>49.412731</td>\n",
       "      <td>0</td>\n",
       "      <td>f</td>\n",
       "      <td>51.0</td>\n",
       "      <td>Consult</td>\n",
       "      <td>HR</td>\n",
       "      <td>empjs</td>\n",
       "      <td>no</td>\n",
       "      <td>m</td>\n",
       "      <td>grey</td>\n",
       "      <td>bus</td>\n",
       "      <td>3.8</td>\n",
       "      <td>7.6</td>\n",
       "      <td>5.7</td>\n",
       "      <td>6.3</td>\n",
       "      <td>5.2</td>\n",
       "    </tr>\n",
       "    <tr>\n",
       "      <th>1128</th>\n",
       "      <td>24.837782</td>\n",
       "      <td>0</td>\n",
       "      <td>f</td>\n",
       "      <td>29.0</td>\n",
       "      <td>Retail</td>\n",
       "      <td>HR</td>\n",
       "      <td>youjs</td>\n",
       "      <td>no</td>\n",
       "      <td>f</td>\n",
       "      <td>white</td>\n",
       "      <td>car</td>\n",
       "      <td>9.4</td>\n",
       "      <td>1.2</td>\n",
       "      <td>4.1</td>\n",
       "      <td>5.6</td>\n",
       "      <td>6.7</td>\n",
       "    </tr>\n",
       "  </tbody>\n",
       "</table>\n",
       "<p>1129 rows × 16 columns</p>\n",
       "</div>"
      ],
      "text/plain": [
       "      experience  churn gender   age         industry  profession  \\\n",
       "0       7.030801      1      m  35.0            Banks          HR   \n",
       "1      22.965092      1      m  33.0            Banks          HR   \n",
       "2      15.934292      1      f  35.0  PowerGeneration          HR   \n",
       "3      15.934292      1      f  35.0  PowerGeneration          HR   \n",
       "4       8.410678      1      m  32.0           Retail  Commercial   \n",
       "...          ...    ...    ...   ...              ...         ...   \n",
       "1124   10.611910      0      f  41.0            Banks          HR   \n",
       "1125   10.611910      0      f  41.0            Banks          HR   \n",
       "1126  118.800821      0      f  34.0          Telecom  Accounting   \n",
       "1127   49.412731      0      f  51.0          Consult          HR   \n",
       "1128   24.837782      0      f  29.0           Retail          HR   \n",
       "\n",
       "          traffic    coach head_gender wage_type  way  extraversion  independ  \\\n",
       "0     rabrecNErab       no           f     white  bus           6.2       4.1   \n",
       "1           empjs       no           m     white  bus           6.2       4.1   \n",
       "2     rabrecNErab       no           m     white  bus           6.2       6.2   \n",
       "3     rabrecNErab       no           m     white  bus           5.4       7.6   \n",
       "4           youjs      yes           f     white  bus           3.0       4.1   \n",
       "...           ...      ...         ...       ...  ...           ...       ...   \n",
       "1124  rabrecNErab  my head           m     white  bus           8.6       3.4   \n",
       "1125  rabrecNErab  my head           m     white  bus           8.6       3.4   \n",
       "1126           KA       no           f     white  bus           4.6       5.5   \n",
       "1127        empjs       no           m      grey  bus           3.8       7.6   \n",
       "1128        youjs       no           f     white  car           9.4       1.2   \n",
       "\n",
       "      selfcontrol  anxiety  novator  \n",
       "0             5.7      7.1      8.3  \n",
       "1             5.7      7.1      8.3  \n",
       "2             2.6      4.8      8.3  \n",
       "3             4.9      2.5      6.7  \n",
       "4             8.0      7.1      3.7  \n",
       "...           ...      ...      ...  \n",
       "1124          2.6      4.8      8.3  \n",
       "1125          2.6      4.8      8.3  \n",
       "1126          7.2      6.3      3.7  \n",
       "1127          5.7      6.3      5.2  \n",
       "1128          4.1      5.6      6.7  \n",
       "\n",
       "[1129 rows x 16 columns]"
      ]
     },
     "execution_count": 613,
     "metadata": {},
     "output_type": "execute_result"
    }
   ],
   "source": [
    "df"
   ]
  },
  {
   "cell_type": "markdown",
   "metadata": {},
   "source": [
    "### Data cleaning "
   ]
  },
  {
   "cell_type": "markdown",
   "metadata": {},
   "source": [
    "#### Checking for missing data"
   ]
  },
  {
   "cell_type": "code",
   "execution_count": 614,
   "metadata": {},
   "outputs": [
    {
     "data": {
      "text/plain": [
       "experience      0\n",
       "churn           0\n",
       "gender          0\n",
       "age             0\n",
       "industry        0\n",
       "profession      0\n",
       "traffic         0\n",
       "coach           0\n",
       "head_gender     0\n",
       "wage_type       0\n",
       "way             0\n",
       "extraversion    0\n",
       "independ        0\n",
       "selfcontrol     0\n",
       "anxiety         0\n",
       "novator         0\n",
       "dtype: int64"
      ]
     },
     "execution_count": 614,
     "metadata": {},
     "output_type": "execute_result"
    }
   ],
   "source": [
    "df.isnull().sum()"
   ]
  },
  {
   "cell_type": "markdown",
   "metadata": {},
   "source": [
    "#### Checking for duplicates "
   ]
  },
  {
   "cell_type": "code",
   "execution_count": 615,
   "metadata": {},
   "outputs": [
    {
     "data": {
      "text/plain": [
       "13"
      ]
     },
     "execution_count": 615,
     "metadata": {},
     "output_type": "execute_result"
    }
   ],
   "source": [
    "df.duplicated().sum()"
   ]
  },
  {
   "cell_type": "code",
   "execution_count": 616,
   "metadata": {},
   "outputs": [
    {
     "data": {
      "text/plain": [
       "0"
      ]
     },
     "execution_count": 616,
     "metadata": {},
     "output_type": "execute_result"
    }
   ],
   "source": [
    "# drop duplicated rows\n",
    "df = df.drop_duplicates()\n",
    "df.duplicated().sum()"
   ]
  },
  {
   "cell_type": "markdown",
   "metadata": {},
   "source": [
    "#### Checking for single valued columns"
   ]
  },
  {
   "cell_type": "code",
   "execution_count": 617,
   "metadata": {},
   "outputs": [
    {
     "data": {
      "text/plain": [
       "Index([], dtype='object')"
      ]
     },
     "execution_count": 617,
     "metadata": {},
     "output_type": "execute_result"
    }
   ],
   "source": [
    "df.columns[data.nunique()==1]"
   ]
  },
  {
   "cell_type": "markdown",
   "metadata": {},
   "source": [
    "###  Descriptive analitics"
   ]
  },
  {
   "cell_type": "markdown",
   "metadata": {},
   "source": [
    "### Churn rate"
   ]
  },
  {
   "cell_type": "code",
   "execution_count": 618,
   "metadata": {},
   "outputs": [
    {
     "data": {
      "image/png": "[encoded data removed]",
      "text/plain": [
       "<Figure size 648x360 with 1 Axes>"
      ]
     },
     "metadata": {
      "needs_background": "light"
     },
     "output_type": "display_data"
    }
   ],
   "source": [
    "plt.figure(figsize=(9,5))\n",
    "sns.countplot(df.churn, palette = \"rocket\")\n",
    "plt.title(\"Target variable (churn) distribution\")\n",
    "plt.show()"
   ]
  },
  {
   "cell_type": "markdown",
   "metadata": {},
   "source": [
    "As the countplot reveals our dataset is balanced.\n",
    "Number of employees who churned and employees who stayed are almost equal "
   ]
  },
  {
   "cell_type": "code",
   "execution_count": 619,
   "metadata": {},
   "outputs": [
    {
     "data": {
      "text/plain": [
       "1    50.179211\n",
       "0    49.820789\n",
       "Name: churn, dtype: float64"
      ]
     },
     "execution_count": 619,
     "metadata": {},
     "output_type": "execute_result"
    }
   ],
   "source": [
    "# churn rate by percentages\n",
    "df.churn.value_counts(normalize=True).mul(100)"
   ]
  },
  {
   "cell_type": "markdown",
   "metadata": {},
   "source": [
    "### Difference of age in churn and no churn groups "
   ]
  },
  {
   "cell_type": "code",
   "execution_count": 620,
   "metadata": {},
   "outputs": [
    {
     "data": {
      "text/plain": [
       "<seaborn.axisgrid.FacetGrid at 0x20e8314d4c0>"
      ]
     },
     "execution_count": 620,
     "metadata": {},
     "output_type": "execute_result"
    },
    {
     "data": {
      "image/png": "[encoded data removed]",
      "text/plain": [
       "<Figure size 360x360 with 1 Axes>"
      ]
     },
     "metadata": {
      "needs_background": "light"
     },
     "output_type": "display_data"
    }
   ],
   "source": [
    "sns.catplot(y = \"age\", x = 'churn', kind=\"box\", data=df, palette = 'PuRd')"
   ]
  },
  {
   "cell_type": "code",
   "execution_count": 621,
   "metadata": {
    "scrolled": false
   },
   "outputs": [
    {
     "data": {
      "image/png": "[encoded data removed]",
      "text/plain": [
       "<Figure size 576x432 with 1 Axes>"
      ]
     },
     "metadata": {
      "needs_background": "light"
     },
     "output_type": "display_data"
    }
   ],
   "source": [
    "plt.figure(figsize=(8,6))\n",
    "sns.distplot(df.age,color='blue')\n",
    "plt.title('Age distribution')\n",
    "plt.show()"
   ]
  },
  {
   "cell_type": "code",
   "execution_count": 622,
   "metadata": {},
   "outputs": [
    {
     "data": {
      "text/plain": [
       "<matplotlib.axes._subplots.AxesSubplot at 0x20e8a9d8ac0>"
      ]
     },
     "execution_count": 622,
     "metadata": {},
     "output_type": "execute_result"
    },
    {
     "data": {
      "image/png": "[encoded data removed]",
      "text/plain": [
       "<Figure size 432x288 with 1 Axes>"
      ]
     },
     "metadata": {
      "needs_background": "light"
     },
     "output_type": "display_data"
    }
   ],
   "source": [
    "#(KDE) plot colored by the value of the target.\n",
    "sns.kdeplot(df.loc[df['churn'] == 1, 'age'], label = 'churn', shade=True, color = 'Red')\n",
    "sns.kdeplot(df.loc[df['churn'] == 0, 'age'] , label = 'no churn', shade=True)"
   ]
  },
  {
   "cell_type": "markdown",
   "metadata": {},
   "source": [
    "### T-test to indetify if there is significant difference of age in churn and no churn groups"
   ]
  },
  {
   "cell_type": "markdown",
   "metadata": {},
   "source": [
    "There is difference in ages of employees in churn and no churn groups. But is that significant? significance level = 0.05 \n",
    "- H0: (mu1 - mu2) = 0, there is no difference \n",
    "- HA: (mu1 - mu2) != 0 "
   ]
  },
  {
   "cell_type": "code",
   "execution_count": 623,
   "metadata": {},
   "outputs": [
    {
     "name": "stdout",
     "output_type": "stream",
     "text": [
      "P-Value: 0.07400178868519351 T-Statistic: -1.788286911842796\n"
     ]
    }
   ],
   "source": [
    "from scipy import stats\n",
    "a = df.loc[df['churn'] == 1, 'age']\n",
    "b = df.loc[df['churn'] == 0, 'age']\n",
    "tStat, pValue = stats.ttest_ind(a, b, equal_var = False) #T-Test\n",
    "print(f'P-Value:', pValue, f'T-Statistic:', tStat) #print the P-Value and the T-Statistics"
   ]
  },
  {
   "cell_type": "markdown",
   "metadata": {},
   "source": [
    "Our p-value of 0,074 is larger than 0.05, so we cannot reject our null hypothesis and we cannot accept alternative."
   ]
  },
  {
   "cell_type": "markdown",
   "metadata": {},
   "source": [
    "### Object type columns exploration "
   ]
  },
  {
   "cell_type": "code",
   "execution_count": 624,
   "metadata": {},
   "outputs": [],
   "source": [
    "rates_list=[]\n",
    "for i in df.dtypes[df.dtypes==\"object\"].index.tolist():\n",
    "    rates=df.groupby(i)[\"churn\"].value_counts(normalize=True).rename(\"percentage\").mul(100).reset_index()\n",
    "    rates_list.append(rates)\n",
    "    "
   ]
  },
  {
   "cell_type": "code",
   "execution_count": 625,
   "metadata": {
    "scrolled": false
   },
   "outputs": [
    {
     "data": {
      "image/png": "[encoded data removed]",
      "text/plain": [
       "<Figure size 1296x360 with 1 Axes>"
      ]
     },
     "metadata": {
      "needs_background": "light"
     },
     "output_type": "display_data"
    },
    {
     "data": {
      "image/png": "[encoded data removed]",
      "text/plain": [
       "<Figure size 1296x360 with 1 Axes>"
      ]
     },
     "metadata": {
      "needs_background": "light"
     },
     "output_type": "display_data"
    },
    {
     "data": {
      "image/png": "[encoded data removed]",
      "text/plain": [
       "<Figure size 1296x360 with 1 Axes>"
      ]
     },
     "metadata": {
      "needs_background": "light"
     },
     "output_type": "display_data"
    },
    {
     "data": {
      "image/png": "[encoded data removed]",
      "text/plain": [
       "<Figure size 1296x360 with 1 Axes>"
      ]
     },
     "metadata": {
      "needs_background": "light"
     },
     "output_type": "display_data"
    },
    {
     "data": {
      "image/png": "[encoded data removed]",
      "text/plain": [
       "<Figure size 1296x360 with 1 Axes>"
      ]
     },
     "metadata": {
      "needs_background": "light"
     },
     "output_type": "display_data"
    },
    {
     "data": {
      "image/png": "[encoded data removed]",
      "text/plain": [
       "<Figure size 1296x360 with 1 Axes>"
      ]
     },
     "metadata": {
      "needs_background": "light"
     },
     "output_type": "display_data"
    },
    {
     "data": {
      "image/png": "[encoded data removed]",
      "text/plain": [
       "<Figure size 1296x360 with 1 Axes>"
      ]
     },
     "metadata": {
      "needs_background": "light"
     },
     "output_type": "display_data"
    },
    {
     "data": {
      "image/png": "[encoded data removed]",
      "text/plain": [
       "<Figure size 1296x360 with 1 Axes>"
      ]
     },
     "metadata": {
      "needs_background": "light"
     },
     "output_type": "display_data"
    }
   ],
   "source": [
    "for i in rates_list:\n",
    "    plt.figure(figsize=(18,5))\n",
    "    sns.barplot(x=i.iloc[:,0], y=i.iloc[:,2], hue=i.iloc[:,1], palette = 'PuRd')\n",
    "    plt.title(f'Churn percentage by ' + i.columns[0])\n",
    "    plt.show()\n"
   ]
  },
  {
   "cell_type": "markdown",
   "metadata": {},
   "source": [
    "- There is not obvious difference in gender groups\n",
    "- Buliding employees mainly churn - more than 75%. About 70% workers in agriculture, banks and state also churn.\n",
    "Most employees do not churn in IT - about 70% workers stay, which is the best result by industry. \n",
    "- By proffession most churn percentage is in PR (more than 80%), and least churn in IT and HR - about 60%\n",
    "- By traffic, it is interesting that employees who came due to friends tend to no churn (more than 60% stayed)\n",
    "- There is not big difference in coach, head gender groups\n",
    "- By wage type, people who earn grey wage tend to leave company (more than 60%)\n",
    "- By way, people who came to work mostly do not churn (more than 60%), which is logical"
   ]
  },
  {
   "cell_type": "markdown",
   "metadata": {},
   "source": [
    "### Distributions of personality test results and exprience"
   ]
  },
  {
   "cell_type": "code",
   "execution_count": 626,
   "metadata": {},
   "outputs": [
    {
     "data": {
      "text/plain": [
       "<matplotlib.axes._subplots.AxesSubplot at 0x20e8f18f8e0>"
      ]
     },
     "execution_count": 626,
     "metadata": {},
     "output_type": "execute_result"
    },
    {
     "data": {
      "image/png": "[encoded data removed]",
      "text/plain": [
       "<Figure size 1500x1000 with 6 Axes>"
      ]
     },
     "metadata": {
      "needs_background": "light"
     },
     "output_type": "display_data"
    }
   ],
   "source": [
    "fig, axes = plt.subplots(2, 3, figsize=(15, 10), dpi=100)\n",
    "sns.distplot(df['anxiety'] , color=\"dodgerblue\",ax=axes[0,0])\n",
    "sns.distplot(df['independ'] , color=\"deeppink\", ax=axes[0,1])\n",
    "sns.distplot(df['novator'] , color=\"gold\", ax=axes[0,2])\n",
    "sns.distplot(df['extraversion'] , color='olive', ax=axes[1,0])\n",
    "sns.distplot(df['selfcontrol'] , color='red', ax=axes[1,1])\n",
    "sns.distplot(df['experience'] , color='maroon', ax=axes[1,2])"
   ]
  },
  {
   "cell_type": "markdown",
   "metadata": {},
   "source": [
    "### Difference of anxiety in churn and no churn groups "
   ]
  },
  {
   "cell_type": "code",
   "execution_count": 627,
   "metadata": {
    "scrolled": false
   },
   "outputs": [
    {
     "data": {
      "text/html": [
       "<div>\n",
       "<style scoped>\n",
       "    .dataframe tbody tr th:only-of-type {\n",
       "        vertical-align: middle;\n",
       "    }\n",
       "\n",
       "    .dataframe tbody tr th {\n",
       "        vertical-align: top;\n",
       "    }\n",
       "\n",
       "    .dataframe thead th {\n",
       "        text-align: right;\n",
       "    }\n",
       "</style>\n",
       "<table border=\"1\" class=\"dataframe\">\n",
       "  <thead>\n",
       "    <tr style=\"text-align: right;\">\n",
       "      <th></th>\n",
       "      <th>churn</th>\n",
       "      <th>anxiety</th>\n",
       "    </tr>\n",
       "  </thead>\n",
       "  <tbody>\n",
       "    <tr>\n",
       "      <th>0</th>\n",
       "      <td>0</td>\n",
       "      <td>5.772842</td>\n",
       "    </tr>\n",
       "    <tr>\n",
       "      <th>1</th>\n",
       "      <td>1</td>\n",
       "      <td>5.561250</td>\n",
       "    </tr>\n",
       "  </tbody>\n",
       "</table>\n",
       "</div>"
      ],
      "text/plain": [
       "   churn   anxiety\n",
       "0      0  5.772842\n",
       "1      1  5.561250"
      ]
     },
     "execution_count": 627,
     "metadata": {},
     "output_type": "execute_result"
    }
   ],
   "source": [
    "df[['churn', 'anxiety']].groupby(['churn'], as_index=False).mean().sort_values(by='anxiety', ascending=False)"
   ]
  },
  {
   "cell_type": "markdown",
   "metadata": {},
   "source": [
    "Surprisingly, average estimate of anxiety in no churn group is higher "
   ]
  },
  {
   "cell_type": "markdown",
   "metadata": {},
   "source": [
    "### T-test to indetify if there is significant difference of anxiety in churn and no churn groups"
   ]
  },
  {
   "cell_type": "markdown",
   "metadata": {},
   "source": [
    "As we saw, there is difference of anxiety in churn and no churn groups, but is that significant? \n",
    "- H0: (mu1 - mu2) = 0, there is no difference \n",
    "- HA: (mu1 - mu2) != 0"
   ]
  },
  {
   "cell_type": "code",
   "execution_count": 628,
   "metadata": {},
   "outputs": [
    {
     "name": "stdout",
     "output_type": "stream",
     "text": [
      "P-Value: 0.038794025428009346 T-Statistic: -2.0688127417871045\n"
     ]
    }
   ],
   "source": [
    "a = df.loc[df['churn'] == 1, 'anxiety']\n",
    "b = df.loc[df['churn'] == 0, 'anxiety']\n",
    "tStat, pValue = stats.ttest_ind(a, b, equal_var = False) #T-Test\n",
    "print(f'P-Value:', pValue, f'T-Statistic:', tStat) #print the P-Value and the T-Statistics"
   ]
  },
  {
   "cell_type": "markdown",
   "metadata": {},
   "source": [
    "Our p-value of 0,03 is larger than 0,05, so we can reject our null hypothesis, there is significant difference of anxiety"
   ]
  },
  {
   "cell_type": "markdown",
   "metadata": {},
   "source": [
    "### Correlation Matrix"
   ]
  },
  {
   "cell_type": "code",
   "execution_count": 629,
   "metadata": {},
   "outputs": [
    {
     "data": {
      "image/png": "[encoded data removed]",
      "text/plain": [
       "<Figure size 1080x576 with 2 Axes>"
      ]
     },
     "metadata": {
      "needs_background": "light"
     },
     "output_type": "display_data"
    }
   ],
   "source": [
    "plt.figure(figsize=(15,8))\n",
    "sns.heatmap(df.corr(), annot=True)\n",
    "plt.show()"
   ]
  },
  {
   "cell_type": "markdown",
   "metadata": {},
   "source": [
    "- There are correlations between personality test results, which is expectable. Selfcontrol and novator are negatively correlated, surprisingly anxiety and independ are also negatively correlated, same is for extraversion and selfcontrol\n",
    "- As we can see from the heatmap there are not high correlated variables in our dataset, hence we will not drop any column by now\n"
   ]
  },
  {
   "cell_type": "markdown",
   "metadata": {},
   "source": [
    "### Differences of average test results in churn and no churn groups"
   ]
  },
  {
   "cell_type": "code",
   "execution_count": 630,
   "metadata": {},
   "outputs": [
    {
     "data": {
      "text/html": [
       "<div>\n",
       "<style scoped>\n",
       "    .dataframe tbody tr th:only-of-type {\n",
       "        vertical-align: middle;\n",
       "    }\n",
       "\n",
       "    .dataframe tbody tr th {\n",
       "        vertical-align: top;\n",
       "    }\n",
       "\n",
       "    .dataframe thead th {\n",
       "        text-align: right;\n",
       "    }\n",
       "</style>\n",
       "<table border=\"1\" class=\"dataframe\">\n",
       "  <thead>\n",
       "    <tr style=\"text-align: right;\">\n",
       "      <th></th>\n",
       "      <th>churn</th>\n",
       "      <th>independ</th>\n",
       "      <th>churn</th>\n",
       "      <th>selfcontrol</th>\n",
       "      <th>churn</th>\n",
       "      <th>extraversion</th>\n",
       "      <th>churn</th>\n",
       "      <th>novator</th>\n",
       "    </tr>\n",
       "  </thead>\n",
       "  <tbody>\n",
       "    <tr>\n",
       "      <th>0</th>\n",
       "      <td>0</td>\n",
       "      <td>5.395863</td>\n",
       "      <td>0</td>\n",
       "      <td>5.685791</td>\n",
       "      <td>0</td>\n",
       "      <td>5.556835</td>\n",
       "      <td>0</td>\n",
       "      <td>5.859173</td>\n",
       "    </tr>\n",
       "    <tr>\n",
       "      <th>1</th>\n",
       "      <td>1</td>\n",
       "      <td>5.552500</td>\n",
       "      <td>1</td>\n",
       "      <td>5.529821</td>\n",
       "      <td>1</td>\n",
       "      <td>5.622143</td>\n",
       "      <td>1</td>\n",
       "      <td>5.895357</td>\n",
       "    </tr>\n",
       "  </tbody>\n",
       "</table>\n",
       "</div>"
      ],
      "text/plain": [
       "   churn  independ  churn  selfcontrol  churn  extraversion  churn   novator\n",
       "0      0  5.395863      0     5.685791      0      5.556835      0  5.859173\n",
       "1      1  5.552500      1     5.529821      1      5.622143      1  5.895357"
      ]
     },
     "execution_count": 630,
     "metadata": {},
     "output_type": "execute_result"
    }
   ],
   "source": [
    "df1 = df[['churn', 'independ']].groupby(['churn'], as_index=False).mean().sort_values(by='independ', ascending=False)\n",
    "df2 = df[['churn', 'selfcontrol']].groupby(['churn'], as_index=False).mean().sort_values(by='selfcontrol', ascending=False)\n",
    "df3 = df[['churn', 'extraversion']].groupby(['churn'], as_index=False).mean().sort_values(by='extraversion', ascending=False)\n",
    "df4 = df[['churn', 'novator']].groupby(['churn'], as_index=False).mean().sort_values(by='novator', ascending=False)\n",
    "pd.concat([df1, df2, df3, df4], axis=1)"
   ]
  },
  {
   "cell_type": "markdown",
   "metadata": {},
   "source": [
    "There is no significant difference "
   ]
  },
  {
   "cell_type": "markdown",
   "metadata": {},
   "source": [
    "### Feature Engineering\n",
    "### Making personality test results categorical estimates"
   ]
  },
  {
   "cell_type": "code",
   "execution_count": 631,
   "metadata": {},
   "outputs": [],
   "source": [
    "df = df.copy()\n",
    "\n",
    "df['novator'] = np.where((df['novator']<=3),'insufficient',np.where(df['novator']>=8,'great','sufficient'))\n",
    "\n",
    "df['selfcontrol'] = np.where((df['selfcontrol']<=3),'insufficient',np.where(df['selfcontrol']>=8,'great','sufficient'))\n",
    "\n",
    "df['anxiety'] = np.where((df['anxiety']<=3),'great',np.where(df['anxiety']>=8,'insufficient','suffficient'))\n",
    "\n",
    "df['extraversion'] = np.where((df['extraversion']<=3),'insufficient',np.where(df['extraversion']>=8,'great','sufficient'))\n",
    "\n",
    "df['independ'] = np.where((df['independ']<=3),'great',np.where(df['independ']>=8,'insufficient','suffficient'))\n"
   ]
  },
  {
   "cell_type": "markdown",
   "metadata": {},
   "source": [
    "### Making new dataframe for test results"
   ]
  },
  {
   "cell_type": "code",
   "execution_count": 632,
   "metadata": {},
   "outputs": [
    {
     "data": {
      "text/plain": [
       "novator         object\n",
       "selfcontrol     object\n",
       "anxiety         object\n",
       "extraversion    object\n",
       "independ        object\n",
       "churn            int64\n",
       "dtype: object"
      ]
     },
     "execution_count": 632,
     "metadata": {},
     "output_type": "execute_result"
    }
   ],
   "source": [
    "df_B5 = df[['novator', 'selfcontrol', 'anxiety', 'extraversion', 'independ', 'churn']]\n",
    "df_B5.dtypes"
   ]
  },
  {
   "cell_type": "markdown",
   "metadata": {},
   "source": [
    "### Churn persentage by test results"
   ]
  },
  {
   "cell_type": "code",
   "execution_count": 633,
   "metadata": {},
   "outputs": [],
   "source": [
    "rates_list=[]\n",
    "for i in df_B5.dtypes[df_B5.dtypes==\"object\"].index.tolist():\n",
    "    rates=df_B5.groupby(i)[\"churn\"].value_counts(normalize=True).rename(\"percentage\").mul(100).reset_index()\n",
    "    rates_list.append(rates)\n",
    "    "
   ]
  },
  {
   "cell_type": "code",
   "execution_count": 634,
   "metadata": {
    "scrolled": false
   },
   "outputs": [
    {
     "data": {
      "image/png": "[encoded data removed]",
      "text/plain": [
       "<Figure size 1296x360 with 1 Axes>"
      ]
     },
     "metadata": {
      "needs_background": "light"
     },
     "output_type": "display_data"
    },
    {
     "data": {
      "image/png": "[encoded data removed]",
      "text/plain": [
       "<Figure size 1296x360 with 1 Axes>"
      ]
     },
     "metadata": {
      "needs_background": "light"
     },
     "output_type": "display_data"
    },
    {
     "data": {
      "image/png": "[encoded data removed]",
      "text/plain": [
       "<Figure size 1296x360 with 1 Axes>"
      ]
     },
     "metadata": {
      "needs_background": "light"
     },
     "output_type": "display_data"
    },
    {
     "data": {
      "image/png": "[encoded data removed]",
      "text/plain": [
       "<Figure size 1296x360 with 1 Axes>"
      ]
     },
     "metadata": {
      "needs_background": "light"
     },
     "output_type": "display_data"
    },
    {
     "data": {
      "image/png": "[encoded data removed]",
      "text/plain": [
       "<Figure size 1296x360 with 1 Axes>"
      ]
     },
     "metadata": {
      "needs_background": "light"
     },
     "output_type": "display_data"
    }
   ],
   "source": [
    "for i in rates_list:\n",
    "    plt.figure(figsize=(18,5))\n",
    "    sns.barplot(x=i.iloc[:,0], y=i.iloc[:,2], hue=i.iloc[:,1], palette = 'magma')\n",
    "    plt.title(f'Churn percentage by ' + i.columns[0])\n",
    "    plt.show()"
   ]
  },
  {
   "cell_type": "markdown",
   "metadata": {},
   "source": [
    "- Employees with great mark of selfcontrol mainly do not churn\n",
    "- Employees who are very indepent, with less aggreeblnees tend not to churn, meanwhile aggreeble workers churn more"
   ]
  },
  {
   "cell_type": "markdown",
   "metadata": {},
   "source": [
    "### Drop unreliable column stag/experience"
   ]
  },
  {
   "cell_type": "code",
   "execution_count": 635,
   "metadata": {},
   "outputs": [],
   "source": [
    "df = df.drop(['experience'], axis=1)"
   ]
  },
  {
   "cell_type": "markdown",
   "metadata": {},
   "source": [
    "### Logistic reggression"
   ]
  },
  {
   "cell_type": "markdown",
   "metadata": {},
   "source": [
    "#### Libraries for modelling and evaluation"
   ]
  },
  {
   "cell_type": "code",
   "execution_count": 636,
   "metadata": {},
   "outputs": [],
   "source": [
    "from sklearn.model_selection import train_test_split \n",
    "from sklearn.metrics import confusion_matrix"
   ]
  },
  {
   "cell_type": "markdown",
   "metadata": {},
   "source": [
    "#### Creating dummy variables "
   ]
  },
  {
   "cell_type": "code",
   "execution_count": 637,
   "metadata": {},
   "outputs": [],
   "source": [
    "df = pd.get_dummies(df,drop_first=True)"
   ]
  },
  {
   "cell_type": "markdown",
   "metadata": {},
   "source": [
    "#### Separating Feature and Target matrices"
   ]
  },
  {
   "cell_type": "code",
   "execution_count": 638,
   "metadata": {},
   "outputs": [
    {
     "data": {
      "text/html": [
       "<div>\n",
       "<style scoped>\n",
       "    .dataframe tbody tr th:only-of-type {\n",
       "        vertical-align: middle;\n",
       "    }\n",
       "\n",
       "    .dataframe tbody tr th {\n",
       "        vertical-align: top;\n",
       "    }\n",
       "\n",
       "    .dataframe thead th {\n",
       "        text-align: right;\n",
       "    }\n",
       "</style>\n",
       "<table border=\"1\" class=\"dataframe\">\n",
       "  <thead>\n",
       "    <tr style=\"text-align: right;\">\n",
       "      <th></th>\n",
       "      <th>const</th>\n",
       "      <th>age</th>\n",
       "      <th>gender_m</th>\n",
       "      <th>industry_Agriculture</th>\n",
       "      <th>industry_Banks</th>\n",
       "      <th>industry_Building</th>\n",
       "      <th>industry_Consult</th>\n",
       "      <th>industry_IT</th>\n",
       "      <th>industry_Mining</th>\n",
       "      <th>industry_Pharma</th>\n",
       "      <th>...</th>\n",
       "      <th>extraversion_insufficient</th>\n",
       "      <th>extraversion_sufficient</th>\n",
       "      <th>independ_insufficient</th>\n",
       "      <th>independ_suffficient</th>\n",
       "      <th>selfcontrol_insufficient</th>\n",
       "      <th>selfcontrol_sufficient</th>\n",
       "      <th>anxiety_insufficient</th>\n",
       "      <th>anxiety_suffficient</th>\n",
       "      <th>novator_insufficient</th>\n",
       "      <th>novator_sufficient</th>\n",
       "    </tr>\n",
       "  </thead>\n",
       "  <tbody>\n",
       "    <tr>\n",
       "      <th>0</th>\n",
       "      <td>1.0</td>\n",
       "      <td>35.0</td>\n",
       "      <td>1</td>\n",
       "      <td>0</td>\n",
       "      <td>1</td>\n",
       "      <td>0</td>\n",
       "      <td>0</td>\n",
       "      <td>0</td>\n",
       "      <td>0</td>\n",
       "      <td>0</td>\n",
       "      <td>...</td>\n",
       "      <td>0</td>\n",
       "      <td>1</td>\n",
       "      <td>0</td>\n",
       "      <td>1</td>\n",
       "      <td>0</td>\n",
       "      <td>1</td>\n",
       "      <td>0</td>\n",
       "      <td>1</td>\n",
       "      <td>0</td>\n",
       "      <td>0</td>\n",
       "    </tr>\n",
       "    <tr>\n",
       "      <th>1</th>\n",
       "      <td>1.0</td>\n",
       "      <td>33.0</td>\n",
       "      <td>1</td>\n",
       "      <td>0</td>\n",
       "      <td>1</td>\n",
       "      <td>0</td>\n",
       "      <td>0</td>\n",
       "      <td>0</td>\n",
       "      <td>0</td>\n",
       "      <td>0</td>\n",
       "      <td>...</td>\n",
       "      <td>0</td>\n",
       "      <td>1</td>\n",
       "      <td>0</td>\n",
       "      <td>1</td>\n",
       "      <td>0</td>\n",
       "      <td>1</td>\n",
       "      <td>0</td>\n",
       "      <td>1</td>\n",
       "      <td>0</td>\n",
       "      <td>0</td>\n",
       "    </tr>\n",
       "    <tr>\n",
       "      <th>2</th>\n",
       "      <td>1.0</td>\n",
       "      <td>35.0</td>\n",
       "      <td>0</td>\n",
       "      <td>0</td>\n",
       "      <td>0</td>\n",
       "      <td>0</td>\n",
       "      <td>0</td>\n",
       "      <td>0</td>\n",
       "      <td>0</td>\n",
       "      <td>0</td>\n",
       "      <td>...</td>\n",
       "      <td>0</td>\n",
       "      <td>1</td>\n",
       "      <td>0</td>\n",
       "      <td>1</td>\n",
       "      <td>1</td>\n",
       "      <td>0</td>\n",
       "      <td>0</td>\n",
       "      <td>1</td>\n",
       "      <td>0</td>\n",
       "      <td>0</td>\n",
       "    </tr>\n",
       "    <tr>\n",
       "      <th>3</th>\n",
       "      <td>1.0</td>\n",
       "      <td>35.0</td>\n",
       "      <td>0</td>\n",
       "      <td>0</td>\n",
       "      <td>0</td>\n",
       "      <td>0</td>\n",
       "      <td>0</td>\n",
       "      <td>0</td>\n",
       "      <td>0</td>\n",
       "      <td>0</td>\n",
       "      <td>...</td>\n",
       "      <td>0</td>\n",
       "      <td>1</td>\n",
       "      <td>0</td>\n",
       "      <td>1</td>\n",
       "      <td>0</td>\n",
       "      <td>1</td>\n",
       "      <td>0</td>\n",
       "      <td>0</td>\n",
       "      <td>0</td>\n",
       "      <td>1</td>\n",
       "    </tr>\n",
       "    <tr>\n",
       "      <th>4</th>\n",
       "      <td>1.0</td>\n",
       "      <td>32.0</td>\n",
       "      <td>1</td>\n",
       "      <td>0</td>\n",
       "      <td>0</td>\n",
       "      <td>0</td>\n",
       "      <td>0</td>\n",
       "      <td>0</td>\n",
       "      <td>0</td>\n",
       "      <td>0</td>\n",
       "      <td>...</td>\n",
       "      <td>1</td>\n",
       "      <td>0</td>\n",
       "      <td>0</td>\n",
       "      <td>1</td>\n",
       "      <td>0</td>\n",
       "      <td>0</td>\n",
       "      <td>0</td>\n",
       "      <td>1</td>\n",
       "      <td>0</td>\n",
       "      <td>1</td>\n",
       "    </tr>\n",
       "    <tr>\n",
       "      <th>...</th>\n",
       "      <td>...</td>\n",
       "      <td>...</td>\n",
       "      <td>...</td>\n",
       "      <td>...</td>\n",
       "      <td>...</td>\n",
       "      <td>...</td>\n",
       "      <td>...</td>\n",
       "      <td>...</td>\n",
       "      <td>...</td>\n",
       "      <td>...</td>\n",
       "      <td>...</td>\n",
       "      <td>...</td>\n",
       "      <td>...</td>\n",
       "      <td>...</td>\n",
       "      <td>...</td>\n",
       "      <td>...</td>\n",
       "      <td>...</td>\n",
       "      <td>...</td>\n",
       "      <td>...</td>\n",
       "      <td>...</td>\n",
       "      <td>...</td>\n",
       "    </tr>\n",
       "    <tr>\n",
       "      <th>1123</th>\n",
       "      <td>1.0</td>\n",
       "      <td>27.0</td>\n",
       "      <td>0</td>\n",
       "      <td>0</td>\n",
       "      <td>1</td>\n",
       "      <td>0</td>\n",
       "      <td>0</td>\n",
       "      <td>0</td>\n",
       "      <td>0</td>\n",
       "      <td>0</td>\n",
       "      <td>...</td>\n",
       "      <td>0</td>\n",
       "      <td>0</td>\n",
       "      <td>0</td>\n",
       "      <td>1</td>\n",
       "      <td>0</td>\n",
       "      <td>1</td>\n",
       "      <td>0</td>\n",
       "      <td>1</td>\n",
       "      <td>0</td>\n",
       "      <td>1</td>\n",
       "    </tr>\n",
       "    <tr>\n",
       "      <th>1124</th>\n",
       "      <td>1.0</td>\n",
       "      <td>41.0</td>\n",
       "      <td>0</td>\n",
       "      <td>0</td>\n",
       "      <td>1</td>\n",
       "      <td>0</td>\n",
       "      <td>0</td>\n",
       "      <td>0</td>\n",
       "      <td>0</td>\n",
       "      <td>0</td>\n",
       "      <td>...</td>\n",
       "      <td>0</td>\n",
       "      <td>0</td>\n",
       "      <td>0</td>\n",
       "      <td>1</td>\n",
       "      <td>1</td>\n",
       "      <td>0</td>\n",
       "      <td>0</td>\n",
       "      <td>1</td>\n",
       "      <td>0</td>\n",
       "      <td>0</td>\n",
       "    </tr>\n",
       "    <tr>\n",
       "      <th>1126</th>\n",
       "      <td>1.0</td>\n",
       "      <td>34.0</td>\n",
       "      <td>0</td>\n",
       "      <td>0</td>\n",
       "      <td>0</td>\n",
       "      <td>0</td>\n",
       "      <td>0</td>\n",
       "      <td>0</td>\n",
       "      <td>0</td>\n",
       "      <td>0</td>\n",
       "      <td>...</td>\n",
       "      <td>0</td>\n",
       "      <td>1</td>\n",
       "      <td>0</td>\n",
       "      <td>1</td>\n",
       "      <td>0</td>\n",
       "      <td>1</td>\n",
       "      <td>0</td>\n",
       "      <td>1</td>\n",
       "      <td>0</td>\n",
       "      <td>1</td>\n",
       "    </tr>\n",
       "    <tr>\n",
       "      <th>1127</th>\n",
       "      <td>1.0</td>\n",
       "      <td>51.0</td>\n",
       "      <td>0</td>\n",
       "      <td>0</td>\n",
       "      <td>0</td>\n",
       "      <td>0</td>\n",
       "      <td>1</td>\n",
       "      <td>0</td>\n",
       "      <td>0</td>\n",
       "      <td>0</td>\n",
       "      <td>...</td>\n",
       "      <td>0</td>\n",
       "      <td>1</td>\n",
       "      <td>0</td>\n",
       "      <td>1</td>\n",
       "      <td>0</td>\n",
       "      <td>1</td>\n",
       "      <td>0</td>\n",
       "      <td>1</td>\n",
       "      <td>0</td>\n",
       "      <td>1</td>\n",
       "    </tr>\n",
       "    <tr>\n",
       "      <th>1128</th>\n",
       "      <td>1.0</td>\n",
       "      <td>29.0</td>\n",
       "      <td>0</td>\n",
       "      <td>0</td>\n",
       "      <td>0</td>\n",
       "      <td>0</td>\n",
       "      <td>0</td>\n",
       "      <td>0</td>\n",
       "      <td>0</td>\n",
       "      <td>0</td>\n",
       "      <td>...</td>\n",
       "      <td>0</td>\n",
       "      <td>0</td>\n",
       "      <td>0</td>\n",
       "      <td>0</td>\n",
       "      <td>0</td>\n",
       "      <td>1</td>\n",
       "      <td>0</td>\n",
       "      <td>1</td>\n",
       "      <td>0</td>\n",
       "      <td>1</td>\n",
       "    </tr>\n",
       "  </tbody>\n",
       "</table>\n",
       "<p>1116 rows × 55 columns</p>\n",
       "</div>"
      ],
      "text/plain": [
       "      const   age  gender_m  industry_Agriculture  industry_Banks  \\\n",
       "0       1.0  35.0         1                     0               1   \n",
       "1       1.0  33.0         1                     0               1   \n",
       "2       1.0  35.0         0                     0               0   \n",
       "3       1.0  35.0         0                     0               0   \n",
       "4       1.0  32.0         1                     0               0   \n",
       "...     ...   ...       ...                   ...             ...   \n",
       "1123    1.0  27.0         0                     0               1   \n",
       "1124    1.0  41.0         0                     0               1   \n",
       "1126    1.0  34.0         0                     0               0   \n",
       "1127    1.0  51.0         0                     0               0   \n",
       "1128    1.0  29.0         0                     0               0   \n",
       "\n",
       "      industry_Building  industry_Consult  industry_IT  industry_Mining  \\\n",
       "0                     0                 0            0                0   \n",
       "1                     0                 0            0                0   \n",
       "2                     0                 0            0                0   \n",
       "3                     0                 0            0                0   \n",
       "4                     0                 0            0                0   \n",
       "...                 ...               ...          ...              ...   \n",
       "1123                  0                 0            0                0   \n",
       "1124                  0                 0            0                0   \n",
       "1126                  0                 0            0                0   \n",
       "1127                  0                 1            0                0   \n",
       "1128                  0                 0            0                0   \n",
       "\n",
       "      industry_Pharma  ...  extraversion_insufficient  \\\n",
       "0                   0  ...                          0   \n",
       "1                   0  ...                          0   \n",
       "2                   0  ...                          0   \n",
       "3                   0  ...                          0   \n",
       "4                   0  ...                          1   \n",
       "...               ...  ...                        ...   \n",
       "1123                0  ...                          0   \n",
       "1124                0  ...                          0   \n",
       "1126                0  ...                          0   \n",
       "1127                0  ...                          0   \n",
       "1128                0  ...                          0   \n",
       "\n",
       "      extraversion_sufficient  independ_insufficient  independ_suffficient  \\\n",
       "0                           1                      0                     1   \n",
       "1                           1                      0                     1   \n",
       "2                           1                      0                     1   \n",
       "3                           1                      0                     1   \n",
       "4                           0                      0                     1   \n",
       "...                       ...                    ...                   ...   \n",
       "1123                        0                      0                     1   \n",
       "1124                        0                      0                     1   \n",
       "1126                        1                      0                     1   \n",
       "1127                        1                      0                     1   \n",
       "1128                        0                      0                     0   \n",
       "\n",
       "      selfcontrol_insufficient  selfcontrol_sufficient  anxiety_insufficient  \\\n",
       "0                            0                       1                     0   \n",
       "1                            0                       1                     0   \n",
       "2                            1                       0                     0   \n",
       "3                            0                       1                     0   \n",
       "4                            0                       0                     0   \n",
       "...                        ...                     ...                   ...   \n",
       "1123                         0                       1                     0   \n",
       "1124                         1                       0                     0   \n",
       "1126                         0                       1                     0   \n",
       "1127                         0                       1                     0   \n",
       "1128                         0                       1                     0   \n",
       "\n",
       "      anxiety_suffficient  novator_insufficient  novator_sufficient  \n",
       "0                       1                     0                   0  \n",
       "1                       1                     0                   0  \n",
       "2                       1                     0                   0  \n",
       "3                       0                     0                   1  \n",
       "4                       1                     0                   1  \n",
       "...                   ...                   ...                 ...  \n",
       "1123                    1                     0                   1  \n",
       "1124                    1                     0                   0  \n",
       "1126                    1                     0                   1  \n",
       "1127                    1                     0                   1  \n",
       "1128                    1                     0                   1  \n",
       "\n",
       "[1116 rows x 55 columns]"
      ]
     },
     "execution_count": 638,
     "metadata": {},
     "output_type": "execute_result"
    }
   ],
   "source": [
    "#separating X and Y\n",
    "Y = df[\"churn\"]\n",
    "X = df.drop(\"churn\",axis=1)\n",
    "\n",
    "# we need to add the intercept to data (X) manually\n",
    "X = sm.add_constant(X)\n",
    "X"
   ]
  },
  {
   "cell_type": "markdown",
   "metadata": {},
   "source": [
    "#### Splitting the data into train and test sets"
   ]
  },
  {
   "cell_type": "code",
   "execution_count": 639,
   "metadata": {},
   "outputs": [
    {
     "name": "stdout",
     "output_type": "stream",
     "text": [
      "(837, 55) (837,)\n",
      "(279, 55) (279,)\n"
     ]
    }
   ],
   "source": [
    "X0, X1, Y0, Y1 = train_test_split(X, Y, test_size=0.25, random_state=42)\n",
    "print (X0.shape, Y0.shape)\n",
    "print (X1.shape, Y1.shape)"
   ]
  },
  {
   "cell_type": "markdown",
   "metadata": {},
   "source": [
    "#### Creating and training a model"
   ]
  },
  {
   "cell_type": "code",
   "execution_count": 640,
   "metadata": {},
   "outputs": [
    {
     "name": "stdout",
     "output_type": "stream",
     "text": [
      "Warning: Maximum number of iterations has been exceeded.\n",
      "         Current function value: 0.603558\n",
      "         Iterations: 35\n"
     ]
    },
    {
     "name": "stderr",
     "output_type": "stream",
     "text": [
      "C:\\Users\\Taguhi\\anaconda3\\lib\\site-packages\\statsmodels\\base\\model.py:567: ConvergenceWarning: Maximum Likelihood optimization failed to converge. Check mle_retvals\n",
      "  warn(\"Maximum Likelihood optimization failed to converge. \"\n"
     ]
    }
   ],
   "source": [
    "#constructing the logistic regression model (logit) \n",
    "model = sm.Logit(Y0,X0)\n",
    "\n",
    "#fitting the model\n",
    "results=model.fit()"
   ]
  },
  {
   "cell_type": "markdown",
   "metadata": {},
   "source": [
    "#### Results of model"
   ]
  },
  {
   "cell_type": "code",
   "execution_count": 641,
   "metadata": {},
   "outputs": [
    {
     "data": {
      "text/html": [
       "<table class=\"simpletable\">\n",
       "<caption>Logit Regression Results</caption>\n",
       "<tr>\n",
       "  <th>Dep. Variable:</th>         <td>churn</td>      <th>  No. Observations:  </th>  <td>   837</td>  \n",
       "</tr>\n",
       "<tr>\n",
       "  <th>Model:</th>                 <td>Logit</td>      <th>  Df Residuals:      </th>  <td>   782</td>  \n",
       "</tr>\n",
       "<tr>\n",
       "  <th>Method:</th>                 <td>MLE</td>       <th>  Df Model:          </th>  <td>    54</td>  \n",
       "</tr>\n",
       "<tr>\n",
       "  <th>Date:</th>            <td>Thu, 21 Jan 2021</td> <th>  Pseudo R-squ.:     </th>  <td>0.1291</td>  \n",
       "</tr>\n",
       "<tr>\n",
       "  <th>Time:</th>                <td>19:29:09</td>     <th>  Log-Likelihood:    </th> <td> -505.18</td> \n",
       "</tr>\n",
       "<tr>\n",
       "  <th>converged:</th>             <td>False</td>      <th>  LL-Null:           </th> <td> -580.06</td> \n",
       "</tr>\n",
       "<tr>\n",
       "  <th>Covariance Type:</th>     <td>nonrobust</td>    <th>  LLR p-value:       </th> <td>6.126e-11</td>\n",
       "</tr>\n",
       "</table>\n",
       "<table class=\"simpletable\">\n",
       "<tr>\n",
       "                 <td></td>                   <th>coef</th>     <th>std err</th>      <th>z</th>      <th>P>|z|</th>  <th>[0.025</th>    <th>0.975]</th>  \n",
       "</tr>\n",
       "<tr>\n",
       "  <th>const</th>                          <td>    1.1099</td> <td>    1.284</td> <td>    0.864</td> <td> 0.387</td> <td>   -1.407</td> <td>    3.627</td>\n",
       "</tr>\n",
       "<tr>\n",
       "  <th>age</th>                            <td>   -0.0298</td> <td>    0.012</td> <td>   -2.403</td> <td> 0.016</td> <td>   -0.054</td> <td>   -0.005</td>\n",
       "</tr>\n",
       "<tr>\n",
       "  <th>gender_m</th>                       <td>   -0.4051</td> <td>    0.220</td> <td>   -1.839</td> <td> 0.066</td> <td>   -0.837</td> <td>    0.027</td>\n",
       "</tr>\n",
       "<tr>\n",
       "  <th>industry_Agriculture</th>           <td>    0.4789</td> <td>    1.013</td> <td>    0.473</td> <td> 0.636</td> <td>   -1.506</td> <td>    2.464</td>\n",
       "</tr>\n",
       "<tr>\n",
       "  <th>industry_Banks</th>                 <td>    1.0657</td> <td>    0.721</td> <td>    1.478</td> <td> 0.139</td> <td>   -0.347</td> <td>    2.479</td>\n",
       "</tr>\n",
       "<tr>\n",
       "  <th>industry_Building</th>              <td>    0.9237</td> <td>    0.824</td> <td>    1.121</td> <td> 0.262</td> <td>   -0.692</td> <td>    2.539</td>\n",
       "</tr>\n",
       "<tr>\n",
       "  <th>industry_Consult</th>               <td>    0.4505</td> <td>    0.726</td> <td>    0.620</td> <td> 0.535</td> <td>   -0.973</td> <td>    1.874</td>\n",
       "</tr>\n",
       "<tr>\n",
       "  <th>industry_IT</th>                    <td>   -1.0521</td> <td>    0.707</td> <td>   -1.489</td> <td> 0.137</td> <td>   -2.437</td> <td>    0.333</td>\n",
       "</tr>\n",
       "<tr>\n",
       "  <th>industry_Mining</th>                <td>    0.0779</td> <td>    0.831</td> <td>    0.094</td> <td> 0.925</td> <td>   -1.551</td> <td>    1.707</td>\n",
       "</tr>\n",
       "<tr>\n",
       "  <th>industry_Pharma</th>                <td>   -0.0282</td> <td>    0.855</td> <td>   -0.033</td> <td> 0.974</td> <td>   -1.705</td> <td>    1.648</td>\n",
       "</tr>\n",
       "<tr>\n",
       "  <th>industry_PowerGeneration</th>       <td>   -0.9872</td> <td>    0.780</td> <td>   -1.265</td> <td> 0.206</td> <td>   -2.517</td> <td>    0.542</td>\n",
       "</tr>\n",
       "<tr>\n",
       "  <th>industry_RealEstate</th>            <td>   -0.4121</td> <td>    0.975</td> <td>   -0.423</td> <td> 0.672</td> <td>   -2.322</td> <td>    1.498</td>\n",
       "</tr>\n",
       "<tr>\n",
       "  <th>industry_Retail</th>                <td>   -0.4564</td> <td>    0.675</td> <td>   -0.676</td> <td> 0.499</td> <td>   -1.779</td> <td>    0.866</td>\n",
       "</tr>\n",
       "<tr>\n",
       "  <th>industry_State</th>                 <td>   -0.4871</td> <td>    0.803</td> <td>   -0.606</td> <td> 0.544</td> <td>   -2.062</td> <td>    1.088</td>\n",
       "</tr>\n",
       "<tr>\n",
       "  <th>industry_Telecom</th>               <td>   -0.8648</td> <td>    0.798</td> <td>   -1.084</td> <td> 0.278</td> <td>   -2.429</td> <td>    0.699</td>\n",
       "</tr>\n",
       "<tr>\n",
       "  <th>industry_etc</th>                   <td>   -0.1249</td> <td>    0.711</td> <td>   -0.176</td> <td> 0.861</td> <td>   -1.518</td> <td>    1.268</td>\n",
       "</tr>\n",
       "<tr>\n",
       "  <th>industry_manufacture</th>           <td>   -0.3372</td> <td>    0.687</td> <td>   -0.491</td> <td> 0.624</td> <td>   -1.684</td> <td>    1.009</td>\n",
       "</tr>\n",
       "<tr>\n",
       "  <th>industry_transport</th>             <td>   -1.0299</td> <td>    0.820</td> <td>   -1.256</td> <td> 0.209</td> <td>   -2.637</td> <td>    0.577</td>\n",
       "</tr>\n",
       "<tr>\n",
       "  <th>profession_BusinessDevelopment</th> <td>   -0.6777</td> <td>    0.854</td> <td>   -0.793</td> <td> 0.428</td> <td>   -2.352</td> <td>    0.997</td>\n",
       "</tr>\n",
       "<tr>\n",
       "  <th>profession_Commercial</th>          <td>    0.1546</td> <td>    0.880</td> <td>    0.176</td> <td> 0.861</td> <td>   -1.571</td> <td>    1.880</td>\n",
       "</tr>\n",
       "<tr>\n",
       "  <th>profession_Consult</th>             <td>   -0.1475</td> <td>    0.914</td> <td>   -0.161</td> <td> 0.872</td> <td>   -1.939</td> <td>    1.644</td>\n",
       "</tr>\n",
       "<tr>\n",
       "  <th>profession_Engineer</th>            <td>    0.9130</td> <td>    1.075</td> <td>    0.849</td> <td> 0.396</td> <td>   -1.194</td> <td>    3.020</td>\n",
       "</tr>\n",
       "<tr>\n",
       "  <th>profession_Finanñe</th>             <td>   -0.2296</td> <td>    0.915</td> <td>   -0.251</td> <td> 0.802</td> <td>   -2.022</td> <td>    1.563</td>\n",
       "</tr>\n",
       "<tr>\n",
       "  <th>profession_HR</th>                  <td>   -1.0438</td> <td>    0.689</td> <td>   -1.515</td> <td> 0.130</td> <td>   -2.394</td> <td>    0.306</td>\n",
       "</tr>\n",
       "<tr>\n",
       "  <th>profession_IT</th>                  <td>   -1.2510</td> <td>    0.801</td> <td>   -1.561</td> <td> 0.118</td> <td>   -2.821</td> <td>    0.319</td>\n",
       "</tr>\n",
       "<tr>\n",
       "  <th>profession_Law</th>                 <td>    0.2705</td> <td>    1.424</td> <td>    0.190</td> <td> 0.849</td> <td>   -2.521</td> <td>    3.062</td>\n",
       "</tr>\n",
       "<tr>\n",
       "  <th>profession_Marketing</th>           <td>    0.1714</td> <td>    0.848</td> <td>    0.202</td> <td> 0.840</td> <td>   -1.490</td> <td>    1.833</td>\n",
       "</tr>\n",
       "<tr>\n",
       "  <th>profession_PR</th>                  <td>    0.3084</td> <td>    1.414</td> <td>    0.218</td> <td> 0.827</td> <td>   -2.462</td> <td>    3.079</td>\n",
       "</tr>\n",
       "<tr>\n",
       "  <th>profession_Sales</th>               <td>   -0.5134</td> <td>    0.772</td> <td>   -0.665</td> <td> 0.506</td> <td>   -2.026</td> <td>    0.999</td>\n",
       "</tr>\n",
       "<tr>\n",
       "  <th>profession_Teaching</th>            <td>   31.8272</td> <td> 4.11e+06</td> <td> 7.73e-06</td> <td> 1.000</td> <td>-8.06e+06</td> <td> 8.06e+06</td>\n",
       "</tr>\n",
       "<tr>\n",
       "  <th>profession_etc</th>                 <td>   -1.0681</td> <td>    0.815</td> <td>   -1.311</td> <td> 0.190</td> <td>   -2.665</td> <td>    0.529</td>\n",
       "</tr>\n",
       "<tr>\n",
       "  <th>profession_manage</th>              <td>    0.6338</td> <td>    0.865</td> <td>    0.733</td> <td> 0.464</td> <td>   -1.062</td> <td>    2.330</td>\n",
       "</tr>\n",
       "<tr>\n",
       "  <th>traffic_advert</th>                 <td>   -1.1476</td> <td>    0.651</td> <td>   -1.764</td> <td> 0.078</td> <td>   -2.423</td> <td>    0.128</td>\n",
       "</tr>\n",
       "<tr>\n",
       "  <th>traffic_empjs</th>                  <td>    0.4097</td> <td>    0.375</td> <td>    1.093</td> <td> 0.274</td> <td>   -0.325</td> <td>    1.144</td>\n",
       "</tr>\n",
       "<tr>\n",
       "  <th>traffic_friends</th>                <td>   -0.7561</td> <td>    0.421</td> <td>   -1.795</td> <td> 0.073</td> <td>   -1.582</td> <td>    0.069</td>\n",
       "</tr>\n",
       "<tr>\n",
       "  <th>traffic_rabrecNErab</th>            <td>    0.3157</td> <td>    0.380</td> <td>    0.832</td> <td> 0.406</td> <td>   -0.428</td> <td>    1.060</td>\n",
       "</tr>\n",
       "<tr>\n",
       "  <th>traffic_recNErab</th>               <td>   -0.2010</td> <td>    0.546</td> <td>   -0.368</td> <td> 0.713</td> <td>   -1.271</td> <td>    0.868</td>\n",
       "</tr>\n",
       "<tr>\n",
       "  <th>traffic_referal</th>                <td>    0.3880</td> <td>    0.445</td> <td>    0.872</td> <td> 0.383</td> <td>   -0.484</td> <td>    1.260</td>\n",
       "</tr>\n",
       "<tr>\n",
       "  <th>traffic_youjs</th>                  <td>   -0.1708</td> <td>    0.367</td> <td>   -0.465</td> <td> 0.642</td> <td>   -0.891</td> <td>    0.549</td>\n",
       "</tr>\n",
       "<tr>\n",
       "  <th>coach_no</th>                       <td>    0.1705</td> <td>    0.186</td> <td>    0.914</td> <td> 0.361</td> <td>   -0.195</td> <td>    0.536</td>\n",
       "</tr>\n",
       "<tr>\n",
       "  <th>coach_yes</th>                      <td>    0.3704</td> <td>    0.281</td> <td>    1.316</td> <td> 0.188</td> <td>   -0.181</td> <td>    0.922</td>\n",
       "</tr>\n",
       "<tr>\n",
       "  <th>head_gender_m</th>                  <td>    0.1387</td> <td>    0.172</td> <td>    0.806</td> <td> 0.420</td> <td>   -0.199</td> <td>    0.476</td>\n",
       "</tr>\n",
       "<tr>\n",
       "  <th>wage_type_white</th>                <td>   -0.2635</td> <td>    0.248</td> <td>   -1.063</td> <td> 0.288</td> <td>   -0.750</td> <td>    0.222</td>\n",
       "</tr>\n",
       "<tr>\n",
       "  <th>way_car</th>                        <td>    0.0833</td> <td>    0.183</td> <td>    0.454</td> <td> 0.649</td> <td>   -0.276</td> <td>    0.443</td>\n",
       "</tr>\n",
       "<tr>\n",
       "  <th>way_foot</th>                       <td>   -0.5285</td> <td>    0.287</td> <td>   -1.843</td> <td> 0.065</td> <td>   -1.091</td> <td>    0.034</td>\n",
       "</tr>\n",
       "<tr>\n",
       "  <th>extraversion_insufficient</th>      <td>    0.6560</td> <td>    0.388</td> <td>    1.690</td> <td> 0.091</td> <td>   -0.105</td> <td>    1.417</td>\n",
       "</tr>\n",
       "<tr>\n",
       "  <th>extraversion_sufficient</th>        <td>    0.3012</td> <td>    0.302</td> <td>    0.996</td> <td> 0.319</td> <td>   -0.292</td> <td>    0.894</td>\n",
       "</tr>\n",
       "<tr>\n",
       "  <th>independ_insufficient</th>          <td>    0.4094</td> <td>    0.446</td> <td>    0.918</td> <td> 0.359</td> <td>   -0.465</td> <td>    1.284</td>\n",
       "</tr>\n",
       "<tr>\n",
       "  <th>independ_suffficient</th>           <td>    0.0086</td> <td>    0.291</td> <td>    0.029</td> <td> 0.976</td> <td>   -0.562</td> <td>    0.579</td>\n",
       "</tr>\n",
       "<tr>\n",
       "  <th>selfcontrol_insufficient</th>       <td>    0.4146</td> <td>    0.371</td> <td>    1.119</td> <td> 0.263</td> <td>   -0.312</td> <td>    1.141</td>\n",
       "</tr>\n",
       "<tr>\n",
       "  <th>selfcontrol_sufficient</th>         <td>    0.2225</td> <td>    0.224</td> <td>    0.995</td> <td> 0.320</td> <td>   -0.216</td> <td>    0.661</td>\n",
       "</tr>\n",
       "<tr>\n",
       "  <th>anxiety_insufficient</th>           <td>    0.4474</td> <td>    0.512</td> <td>    0.874</td> <td> 0.382</td> <td>   -0.556</td> <td>    1.451</td>\n",
       "</tr>\n",
       "<tr>\n",
       "  <th>anxiety_suffficient</th>            <td>    0.1358</td> <td>    0.411</td> <td>    0.331</td> <td> 0.741</td> <td>   -0.669</td> <td>    0.941</td>\n",
       "</tr>\n",
       "<tr>\n",
       "  <th>novator_insufficient</th>           <td>    0.1467</td> <td>    0.340</td> <td>    0.432</td> <td> 0.666</td> <td>   -0.520</td> <td>    0.813</td>\n",
       "</tr>\n",
       "<tr>\n",
       "  <th>novator_sufficient</th>             <td>    0.3448</td> <td>    0.234</td> <td>    1.471</td> <td> 0.141</td> <td>   -0.115</td> <td>    0.804</td>\n",
       "</tr>\n",
       "</table>"
      ],
      "text/plain": [
       "<class 'statsmodels.iolib.summary.Summary'>\n",
       "\"\"\"\n",
       "                           Logit Regression Results                           \n",
       "==============================================================================\n",
       "Dep. Variable:                  churn   No. Observations:                  837\n",
       "Model:                          Logit   Df Residuals:                      782\n",
       "Method:                           MLE   Df Model:                           54\n",
       "Date:                Thu, 21 Jan 2021   Pseudo R-squ.:                  0.1291\n",
       "Time:                        19:29:09   Log-Likelihood:                -505.18\n",
       "converged:                      False   LL-Null:                       -580.06\n",
       "Covariance Type:            nonrobust   LLR p-value:                 6.126e-11\n",
       "==================================================================================================\n",
       "                                     coef    std err          z      P>|z|      [0.025      0.975]\n",
       "--------------------------------------------------------------------------------------------------\n",
       "const                              1.1099      1.284      0.864      0.387      -1.407       3.627\n",
       "age                               -0.0298      0.012     -2.403      0.016      -0.054      -0.005\n",
       "gender_m                          -0.4051      0.220     -1.839      0.066      -0.837       0.027\n",
       "industry_Agriculture               0.4789      1.013      0.473      0.636      -1.506       2.464\n",
       "industry_Banks                     1.0657      0.721      1.478      0.139      -0.347       2.479\n",
       "industry_Building                  0.9237      0.824      1.121      0.262      -0.692       2.539\n",
       "industry_Consult                   0.4505      0.726      0.620      0.535      -0.973       1.874\n",
       "industry_IT                       -1.0521      0.707     -1.489      0.137      -2.437       0.333\n",
       "industry_Mining                    0.0779      0.831      0.094      0.925      -1.551       1.707\n",
       "industry_Pharma                   -0.0282      0.855     -0.033      0.974      -1.705       1.648\n",
       "industry_PowerGeneration          -0.9872      0.780     -1.265      0.206      -2.517       0.542\n",
       "industry_RealEstate               -0.4121      0.975     -0.423      0.672      -2.322       1.498\n",
       "industry_Retail                   -0.4564      0.675     -0.676      0.499      -1.779       0.866\n",
       "industry_State                    -0.4871      0.803     -0.606      0.544      -2.062       1.088\n",
       "industry_Telecom                  -0.8648      0.798     -1.084      0.278      -2.429       0.699\n",
       "industry_etc                      -0.1249      0.711     -0.176      0.861      -1.518       1.268\n",
       "industry_manufacture              -0.3372      0.687     -0.491      0.624      -1.684       1.009\n",
       "industry_transport                -1.0299      0.820     -1.256      0.209      -2.637       0.577\n",
       "profession_BusinessDevelopment    -0.6777      0.854     -0.793      0.428      -2.352       0.997\n",
       "profession_Commercial              0.1546      0.880      0.176      0.861      -1.571       1.880\n",
       "profession_Consult                -0.1475      0.914     -0.161      0.872      -1.939       1.644\n",
       "profession_Engineer                0.9130      1.075      0.849      0.396      -1.194       3.020\n",
       "profession_Finanñe                -0.2296      0.915     -0.251      0.802      -2.022       1.563\n",
       "profession_HR                     -1.0438      0.689     -1.515      0.130      -2.394       0.306\n",
       "profession_IT                     -1.2510      0.801     -1.561      0.118      -2.821       0.319\n",
       "profession_Law                     0.2705      1.424      0.190      0.849      -2.521       3.062\n",
       "profession_Marketing               0.1714      0.848      0.202      0.840      -1.490       1.833\n",
       "profession_PR                      0.3084      1.414      0.218      0.827      -2.462       3.079\n",
       "profession_Sales                  -0.5134      0.772     -0.665      0.506      -2.026       0.999\n",
       "profession_Teaching               31.8272   4.11e+06   7.73e-06      1.000   -8.06e+06    8.06e+06\n",
       "profession_etc                    -1.0681      0.815     -1.311      0.190      -2.665       0.529\n",
       "profession_manage                  0.6338      0.865      0.733      0.464      -1.062       2.330\n",
       "traffic_advert                    -1.1476      0.651     -1.764      0.078      -2.423       0.128\n",
       "traffic_empjs                      0.4097      0.375      1.093      0.274      -0.325       1.144\n",
       "traffic_friends                   -0.7561      0.421     -1.795      0.073      -1.582       0.069\n",
       "traffic_rabrecNErab                0.3157      0.380      0.832      0.406      -0.428       1.060\n",
       "traffic_recNErab                  -0.2010      0.546     -0.368      0.713      -1.271       0.868\n",
       "traffic_referal                    0.3880      0.445      0.872      0.383      -0.484       1.260\n",
       "traffic_youjs                     -0.1708      0.367     -0.465      0.642      -0.891       0.549\n",
       "coach_no                           0.1705      0.186      0.914      0.361      -0.195       0.536\n",
       "coach_yes                          0.3704      0.281      1.316      0.188      -0.181       0.922\n",
       "head_gender_m                      0.1387      0.172      0.806      0.420      -0.199       0.476\n",
       "wage_type_white                   -0.2635      0.248     -1.063      0.288      -0.750       0.222\n",
       "way_car                            0.0833      0.183      0.454      0.649      -0.276       0.443\n",
       "way_foot                          -0.5285      0.287     -1.843      0.065      -1.091       0.034\n",
       "extraversion_insufficient          0.6560      0.388      1.690      0.091      -0.105       1.417\n",
       "extraversion_sufficient            0.3012      0.302      0.996      0.319      -0.292       0.894\n",
       "independ_insufficient              0.4094      0.446      0.918      0.359      -0.465       1.284\n",
       "independ_suffficient               0.0086      0.291      0.029      0.976      -0.562       0.579\n",
       "selfcontrol_insufficient           0.4146      0.371      1.119      0.263      -0.312       1.141\n",
       "selfcontrol_sufficient             0.2225      0.224      0.995      0.320      -0.216       0.661\n",
       "anxiety_insufficient               0.4474      0.512      0.874      0.382      -0.556       1.451\n",
       "anxiety_suffficient                0.1358      0.411      0.331      0.741      -0.669       0.941\n",
       "novator_insufficient               0.1467      0.340      0.432      0.666      -0.520       0.813\n",
       "novator_sufficient                 0.3448      0.234      1.471      0.141      -0.115       0.804\n",
       "==================================================================================================\n",
       "\"\"\""
      ]
     },
     "execution_count": 641,
     "metadata": {},
     "output_type": "execute_result"
    }
   ],
   "source": [
    "results.summary()"
   ]
  },
  {
   "cell_type": "markdown",
   "metadata": {},
   "source": [
    "- The coefficient table showed that only age has significant influence (p-values < 0.05) on churn.\n",
    "- The coefficients are in log-odds terms. So we can say that each one-unit change in age will decrease the log odds of churn by 0.029, and its p-value indicates that it is significant in determining churn."
   ]
  },
  {
   "cell_type": "markdown",
   "metadata": {},
   "source": [
    "#### Marginal Effects"
   ]
  },
  {
   "cell_type": "code",
   "execution_count": 642,
   "metadata": {},
   "outputs": [
    {
     "data": {
      "text/html": [
       "<table class=\"simpletable\">\n",
       "<caption>Logit Marginal Effects</caption>\n",
       "<tr>\n",
       "  <th>Dep. Variable:</th>  <td>churn</td> \n",
       "</tr>\n",
       "<tr>\n",
       "  <th>Method:</th>         <td>dydx</td>  \n",
       "</tr>\n",
       "<tr>\n",
       "  <th>At:</th>            <td>overall</td>\n",
       "</tr>\n",
       "</table>\n",
       "<table class=\"simpletable\">\n",
       "<tr>\n",
       "                 <th></th>                   <th>dy/dx</th>    <th>std err</th>      <th>z</th>      <th>P>|z|</th>  <th>[0.025</th>    <th>0.975]</th>  \n",
       "</tr>\n",
       "<tr>\n",
       "  <th>age</th>                            <td>   -0.0062</td> <td>    0.003</td> <td>   -2.434</td> <td> 0.015</td> <td>   -0.011</td> <td>   -0.001</td>\n",
       "</tr>\n",
       "<tr>\n",
       "  <th>gender_m</th>                       <td>   -0.0846</td> <td>    0.046</td> <td>   -1.852</td> <td> 0.064</td> <td>   -0.174</td> <td>    0.005</td>\n",
       "</tr>\n",
       "<tr>\n",
       "  <th>industry_Agriculture</th>           <td>    0.1001</td> <td>    0.212</td> <td>    0.473</td> <td> 0.636</td> <td>   -0.315</td> <td>    0.515</td>\n",
       "</tr>\n",
       "<tr>\n",
       "  <th>industry_Banks</th>                 <td>    0.2226</td> <td>    0.150</td> <td>    1.485</td> <td> 0.138</td> <td>   -0.071</td> <td>    0.516</td>\n",
       "</tr>\n",
       "<tr>\n",
       "  <th>industry_Building</th>              <td>    0.1930</td> <td>    0.172</td> <td>    1.124</td> <td> 0.261</td> <td>   -0.144</td> <td>    0.530</td>\n",
       "</tr>\n",
       "<tr>\n",
       "  <th>industry_Consult</th>               <td>    0.0941</td> <td>    0.152</td> <td>    0.621</td> <td> 0.535</td> <td>   -0.203</td> <td>    0.391</td>\n",
       "</tr>\n",
       "<tr>\n",
       "  <th>industry_IT</th>                    <td>   -0.2198</td> <td>    0.147</td> <td>   -1.496</td> <td> 0.135</td> <td>   -0.508</td> <td>    0.068</td>\n",
       "</tr>\n",
       "<tr>\n",
       "  <th>industry_Mining</th>                <td>    0.0163</td> <td>    0.174</td> <td>    0.094</td> <td> 0.925</td> <td>   -0.324</td> <td>    0.357</td>\n",
       "</tr>\n",
       "<tr>\n",
       "  <th>industry_Pharma</th>                <td>   -0.0059</td> <td>    0.179</td> <td>   -0.033</td> <td> 0.974</td> <td>   -0.356</td> <td>    0.344</td>\n",
       "</tr>\n",
       "<tr>\n",
       "  <th>industry_PowerGeneration</th>       <td>   -0.2062</td> <td>    0.162</td> <td>   -1.269</td> <td> 0.204</td> <td>   -0.525</td> <td>    0.112</td>\n",
       "</tr>\n",
       "<tr>\n",
       "  <th>industry_RealEstate</th>            <td>   -0.0861</td> <td>    0.204</td> <td>   -0.423</td> <td> 0.672</td> <td>   -0.485</td> <td>    0.313</td>\n",
       "</tr>\n",
       "<tr>\n",
       "  <th>industry_Retail</th>                <td>   -0.0953</td> <td>    0.141</td> <td>   -0.677</td> <td> 0.498</td> <td>   -0.371</td> <td>    0.181</td>\n",
       "</tr>\n",
       "<tr>\n",
       "  <th>industry_State</th>                 <td>   -0.1017</td> <td>    0.168</td> <td>   -0.607</td> <td> 0.544</td> <td>   -0.430</td> <td>    0.227</td>\n",
       "</tr>\n",
       "<tr>\n",
       "  <th>industry_Telecom</th>               <td>   -0.1807</td> <td>    0.166</td> <td>   -1.087</td> <td> 0.277</td> <td>   -0.507</td> <td>    0.145</td>\n",
       "</tr>\n",
       "<tr>\n",
       "  <th>industry_etc</th>                   <td>   -0.0261</td> <td>    0.148</td> <td>   -0.176</td> <td> 0.861</td> <td>   -0.317</td> <td>    0.265</td>\n",
       "</tr>\n",
       "<tr>\n",
       "  <th>industry_manufacture</th>           <td>   -0.0704</td> <td>    0.143</td> <td>   -0.491</td> <td> 0.623</td> <td>   -0.352</td> <td>    0.211</td>\n",
       "</tr>\n",
       "<tr>\n",
       "  <th>industry_transport</th>             <td>   -0.2151</td> <td>    0.171</td> <td>   -1.260</td> <td> 0.208</td> <td>   -0.550</td> <td>    0.119</td>\n",
       "</tr>\n",
       "<tr>\n",
       "  <th>profession_BusinessDevelopment</th> <td>   -0.1416</td> <td>    0.178</td> <td>   -0.794</td> <td> 0.427</td> <td>   -0.491</td> <td>    0.208</td>\n",
       "</tr>\n",
       "<tr>\n",
       "  <th>profession_Commercial</th>          <td>    0.0323</td> <td>    0.184</td> <td>    0.176</td> <td> 0.861</td> <td>   -0.328</td> <td>    0.393</td>\n",
       "</tr>\n",
       "<tr>\n",
       "  <th>profession_Consult</th>             <td>   -0.0308</td> <td>    0.191</td> <td>   -0.161</td> <td> 0.872</td> <td>   -0.405</td> <td>    0.343</td>\n",
       "</tr>\n",
       "<tr>\n",
       "  <th>profession_Engineer</th>            <td>    0.1907</td> <td>    0.224</td> <td>    0.850</td> <td> 0.395</td> <td>   -0.249</td> <td>    0.630</td>\n",
       "</tr>\n",
       "<tr>\n",
       "  <th>profession_Finanñe</th>             <td>   -0.0480</td> <td>    0.191</td> <td>   -0.251</td> <td> 0.802</td> <td>   -0.422</td> <td>    0.326</td>\n",
       "</tr>\n",
       "<tr>\n",
       "  <th>profession_HR</th>                  <td>   -0.2180</td> <td>    0.143</td> <td>   -1.523</td> <td> 0.128</td> <td>   -0.499</td> <td>    0.063</td>\n",
       "</tr>\n",
       "<tr>\n",
       "  <th>profession_IT</th>                  <td>   -0.2613</td> <td>    0.166</td> <td>   -1.570</td> <td> 0.117</td> <td>   -0.588</td> <td>    0.065</td>\n",
       "</tr>\n",
       "<tr>\n",
       "  <th>profession_Law</th>                 <td>    0.0565</td> <td>    0.298</td> <td>    0.190</td> <td> 0.849</td> <td>   -0.527</td> <td>    0.640</td>\n",
       "</tr>\n",
       "<tr>\n",
       "  <th>profession_Marketing</th>           <td>    0.0358</td> <td>    0.177</td> <td>    0.202</td> <td> 0.840</td> <td>   -0.311</td> <td>    0.383</td>\n",
       "</tr>\n",
       "<tr>\n",
       "  <th>profession_PR</th>                  <td>    0.0644</td> <td>    0.295</td> <td>    0.218</td> <td> 0.827</td> <td>   -0.514</td> <td>    0.643</td>\n",
       "</tr>\n",
       "<tr>\n",
       "  <th>profession_Sales</th>               <td>   -0.1072</td> <td>    0.161</td> <td>   -0.666</td> <td> 0.506</td> <td>   -0.423</td> <td>    0.208</td>\n",
       "</tr>\n",
       "<tr>\n",
       "  <th>profession_Teaching</th>            <td>    6.6487</td> <td>  8.6e+05</td> <td> 7.73e-06</td> <td> 1.000</td> <td>-1.68e+06</td> <td> 1.68e+06</td>\n",
       "</tr>\n",
       "<tr>\n",
       "  <th>profession_etc</th>                 <td>   -0.2231</td> <td>    0.170</td> <td>   -1.316</td> <td> 0.188</td> <td>   -0.556</td> <td>    0.109</td>\n",
       "</tr>\n",
       "<tr>\n",
       "  <th>profession_manage</th>              <td>    0.1324</td> <td>    0.181</td> <td>    0.733</td> <td> 0.463</td> <td>   -0.221</td> <td>    0.486</td>\n",
       "</tr>\n",
       "<tr>\n",
       "  <th>traffic_advert</th>                 <td>   -0.2397</td> <td>    0.135</td> <td>   -1.775</td> <td> 0.076</td> <td>   -0.504</td> <td>    0.025</td>\n",
       "</tr>\n",
       "<tr>\n",
       "  <th>traffic_empjs</th>                  <td>    0.0856</td> <td>    0.078</td> <td>    1.096</td> <td> 0.273</td> <td>   -0.067</td> <td>    0.239</td>\n",
       "</tr>\n",
       "<tr>\n",
       "  <th>traffic_friends</th>                <td>   -0.1580</td> <td>    0.087</td> <td>   -1.807</td> <td> 0.071</td> <td>   -0.329</td> <td>    0.013</td>\n",
       "</tr>\n",
       "<tr>\n",
       "  <th>traffic_rabrecNErab</th>            <td>    0.0659</td> <td>    0.079</td> <td>    0.833</td> <td> 0.405</td> <td>   -0.089</td> <td>    0.221</td>\n",
       "</tr>\n",
       "<tr>\n",
       "  <th>traffic_recNErab</th>               <td>   -0.0420</td> <td>    0.114</td> <td>   -0.368</td> <td> 0.713</td> <td>   -0.265</td> <td>    0.181</td>\n",
       "</tr>\n",
       "<tr>\n",
       "  <th>traffic_referal</th>                <td>    0.0810</td> <td>    0.093</td> <td>    0.873</td> <td> 0.382</td> <td>   -0.101</td> <td>    0.263</td>\n",
       "</tr>\n",
       "<tr>\n",
       "  <th>traffic_youjs</th>                  <td>   -0.0357</td> <td>    0.077</td> <td>   -0.465</td> <td> 0.642</td> <td>   -0.186</td> <td>    0.115</td>\n",
       "</tr>\n",
       "<tr>\n",
       "  <th>coach_no</th>                       <td>    0.0356</td> <td>    0.039</td> <td>    0.916</td> <td> 0.360</td> <td>   -0.041</td> <td>    0.112</td>\n",
       "</tr>\n",
       "<tr>\n",
       "  <th>coach_yes</th>                      <td>    0.0774</td> <td>    0.059</td> <td>    1.321</td> <td> 0.186</td> <td>   -0.037</td> <td>    0.192</td>\n",
       "</tr>\n",
       "<tr>\n",
       "  <th>head_gender_m</th>                  <td>    0.0290</td> <td>    0.036</td> <td>    0.807</td> <td> 0.420</td> <td>   -0.041</td> <td>    0.099</td>\n",
       "</tr>\n",
       "<tr>\n",
       "  <th>wage_type_white</th>                <td>   -0.0551</td> <td>    0.052</td> <td>   -1.065</td> <td> 0.287</td> <td>   -0.156</td> <td>    0.046</td>\n",
       "</tr>\n",
       "<tr>\n",
       "  <th>way_car</th>                        <td>    0.0174</td> <td>    0.038</td> <td>    0.455</td> <td> 0.649</td> <td>   -0.058</td> <td>    0.092</td>\n",
       "</tr>\n",
       "<tr>\n",
       "  <th>way_foot</th>                       <td>   -0.1104</td> <td>    0.060</td> <td>   -1.856</td> <td> 0.064</td> <td>   -0.227</td> <td>    0.006</td>\n",
       "</tr>\n",
       "<tr>\n",
       "  <th>extraversion_insufficient</th>      <td>    0.1370</td> <td>    0.081</td> <td>    1.701</td> <td> 0.089</td> <td>   -0.021</td> <td>    0.295</td>\n",
       "</tr>\n",
       "<tr>\n",
       "  <th>extraversion_sufficient</th>        <td>    0.0629</td> <td>    0.063</td> <td>    0.998</td> <td> 0.318</td> <td>   -0.061</td> <td>    0.187</td>\n",
       "</tr>\n",
       "<tr>\n",
       "  <th>independ_insufficient</th>          <td>    0.0855</td> <td>    0.093</td> <td>    0.919</td> <td> 0.358</td> <td>   -0.097</td> <td>    0.268</td>\n",
       "</tr>\n",
       "<tr>\n",
       "  <th>independ_suffficient</th>           <td>    0.0018</td> <td>    0.061</td> <td>    0.029</td> <td> 0.976</td> <td>   -0.117</td> <td>    0.121</td>\n",
       "</tr>\n",
       "<tr>\n",
       "  <th>selfcontrol_insufficient</th>       <td>    0.0866</td> <td>    0.077</td> <td>    1.122</td> <td> 0.262</td> <td>   -0.065</td> <td>    0.238</td>\n",
       "</tr>\n",
       "<tr>\n",
       "  <th>selfcontrol_sufficient</th>         <td>    0.0465</td> <td>    0.047</td> <td>    0.997</td> <td> 0.319</td> <td>   -0.045</td> <td>    0.138</td>\n",
       "</tr>\n",
       "<tr>\n",
       "  <th>anxiety_insufficient</th>           <td>    0.0935</td> <td>    0.107</td> <td>    0.875</td> <td> 0.382</td> <td>   -0.116</td> <td>    0.303</td>\n",
       "</tr>\n",
       "<tr>\n",
       "  <th>anxiety_suffficient</th>            <td>    0.0284</td> <td>    0.086</td> <td>    0.331</td> <td> 0.741</td> <td>   -0.140</td> <td>    0.196</td>\n",
       "</tr>\n",
       "<tr>\n",
       "  <th>novator_insufficient</th>           <td>    0.0307</td> <td>    0.071</td> <td>    0.432</td> <td> 0.666</td> <td>   -0.109</td> <td>    0.170</td>\n",
       "</tr>\n",
       "<tr>\n",
       "  <th>novator_sufficient</th>             <td>    0.0720</td> <td>    0.049</td> <td>    1.477</td> <td> 0.140</td> <td>   -0.024</td> <td>    0.168</td>\n",
       "</tr>\n",
       "</table>"
      ],
      "text/plain": [
       "<class 'statsmodels.iolib.summary.Summary'>\n",
       "\"\"\"\n",
       "        Logit Marginal Effects       \n",
       "=====================================\n",
       "Dep. Variable:                  churn\n",
       "Method:                          dydx\n",
       "At:                           overall\n",
       "==================================================================================================\n",
       "                                    dy/dx    std err          z      P>|z|      [0.025      0.975]\n",
       "--------------------------------------------------------------------------------------------------\n",
       "age                               -0.0062      0.003     -2.434      0.015      -0.011      -0.001\n",
       "gender_m                          -0.0846      0.046     -1.852      0.064      -0.174       0.005\n",
       "industry_Agriculture               0.1001      0.212      0.473      0.636      -0.315       0.515\n",
       "industry_Banks                     0.2226      0.150      1.485      0.138      -0.071       0.516\n",
       "industry_Building                  0.1930      0.172      1.124      0.261      -0.144       0.530\n",
       "industry_Consult                   0.0941      0.152      0.621      0.535      -0.203       0.391\n",
       "industry_IT                       -0.2198      0.147     -1.496      0.135      -0.508       0.068\n",
       "industry_Mining                    0.0163      0.174      0.094      0.925      -0.324       0.357\n",
       "industry_Pharma                   -0.0059      0.179     -0.033      0.974      -0.356       0.344\n",
       "industry_PowerGeneration          -0.2062      0.162     -1.269      0.204      -0.525       0.112\n",
       "industry_RealEstate               -0.0861      0.204     -0.423      0.672      -0.485       0.313\n",
       "industry_Retail                   -0.0953      0.141     -0.677      0.498      -0.371       0.181\n",
       "industry_State                    -0.1017      0.168     -0.607      0.544      -0.430       0.227\n",
       "industry_Telecom                  -0.1807      0.166     -1.087      0.277      -0.507       0.145\n",
       "industry_etc                      -0.0261      0.148     -0.176      0.861      -0.317       0.265\n",
       "industry_manufacture              -0.0704      0.143     -0.491      0.623      -0.352       0.211\n",
       "industry_transport                -0.2151      0.171     -1.260      0.208      -0.550       0.119\n",
       "profession_BusinessDevelopment    -0.1416      0.178     -0.794      0.427      -0.491       0.208\n",
       "profession_Commercial              0.0323      0.184      0.176      0.861      -0.328       0.393\n",
       "profession_Consult                -0.0308      0.191     -0.161      0.872      -0.405       0.343\n",
       "profession_Engineer                0.1907      0.224      0.850      0.395      -0.249       0.630\n",
       "profession_Finanñe                -0.0480      0.191     -0.251      0.802      -0.422       0.326\n",
       "profession_HR                     -0.2180      0.143     -1.523      0.128      -0.499       0.063\n",
       "profession_IT                     -0.2613      0.166     -1.570      0.117      -0.588       0.065\n",
       "profession_Law                     0.0565      0.298      0.190      0.849      -0.527       0.640\n",
       "profession_Marketing               0.0358      0.177      0.202      0.840      -0.311       0.383\n",
       "profession_PR                      0.0644      0.295      0.218      0.827      -0.514       0.643\n",
       "profession_Sales                  -0.1072      0.161     -0.666      0.506      -0.423       0.208\n",
       "profession_Teaching                6.6487    8.6e+05   7.73e-06      1.000   -1.68e+06    1.68e+06\n",
       "profession_etc                    -0.2231      0.170     -1.316      0.188      -0.556       0.109\n",
       "profession_manage                  0.1324      0.181      0.733      0.463      -0.221       0.486\n",
       "traffic_advert                    -0.2397      0.135     -1.775      0.076      -0.504       0.025\n",
       "traffic_empjs                      0.0856      0.078      1.096      0.273      -0.067       0.239\n",
       "traffic_friends                   -0.1580      0.087     -1.807      0.071      -0.329       0.013\n",
       "traffic_rabrecNErab                0.0659      0.079      0.833      0.405      -0.089       0.221\n",
       "traffic_recNErab                  -0.0420      0.114     -0.368      0.713      -0.265       0.181\n",
       "traffic_referal                    0.0810      0.093      0.873      0.382      -0.101       0.263\n",
       "traffic_youjs                     -0.0357      0.077     -0.465      0.642      -0.186       0.115\n",
       "coach_no                           0.0356      0.039      0.916      0.360      -0.041       0.112\n",
       "coach_yes                          0.0774      0.059      1.321      0.186      -0.037       0.192\n",
       "head_gender_m                      0.0290      0.036      0.807      0.420      -0.041       0.099\n",
       "wage_type_white                   -0.0551      0.052     -1.065      0.287      -0.156       0.046\n",
       "way_car                            0.0174      0.038      0.455      0.649      -0.058       0.092\n",
       "way_foot                          -0.1104      0.060     -1.856      0.064      -0.227       0.006\n",
       "extraversion_insufficient          0.1370      0.081      1.701      0.089      -0.021       0.295\n",
       "extraversion_sufficient            0.0629      0.063      0.998      0.318      -0.061       0.187\n",
       "independ_insufficient              0.0855      0.093      0.919      0.358      -0.097       0.268\n",
       "independ_suffficient               0.0018      0.061      0.029      0.976      -0.117       0.121\n",
       "selfcontrol_insufficient           0.0866      0.077      1.122      0.262      -0.065       0.238\n",
       "selfcontrol_sufficient             0.0465      0.047      0.997      0.319      -0.045       0.138\n",
       "anxiety_insufficient               0.0935      0.107      0.875      0.382      -0.116       0.303\n",
       "anxiety_suffficient                0.0284      0.086      0.331      0.741      -0.140       0.196\n",
       "novator_insufficient               0.0307      0.071      0.432      0.666      -0.109       0.170\n",
       "novator_sufficient                 0.0720      0.049      1.477      0.140      -0.024       0.168\n",
       "==================================================================================================\n",
       "\"\"\""
      ]
     },
     "execution_count": 642,
     "metadata": {},
     "output_type": "execute_result"
    }
   ],
   "source": [
    "results.get_margeff().summary()"
   ]
  },
  {
   "cell_type": "markdown",
   "metadata": {},
   "source": [
    "- Marginal effects are more easily interpreted.\n",
    "- According to the Average Marginal Effets table, the AME value of age is -0.0062 which can be interpreted as a unit increase in age  decreases the probability of churn by 0.62%.\n",
    " "
   ]
  },
  {
   "cell_type": "markdown",
   "metadata": {},
   "source": [
    "#### Performing predictions for train and test datasets"
   ]
  },
  {
   "cell_type": "code",
   "execution_count": 643,
   "metadata": {},
   "outputs": [],
   "source": [
    "Y1_logit = results.predict(sm.add_constant(X1))\n",
    "Y0_logit = results.predict(X0)"
   ]
  },
  {
   "cell_type": "code",
   "execution_count": 644,
   "metadata": {},
   "outputs": [],
   "source": [
    "#converting probabilities into labels\n",
    "Y1_logit=np.where(Y1_logit>=0.5,1,0)\n",
    "Y0_logit=np.where(Y0_logit>=0.5,1,0)"
   ]
  },
  {
   "cell_type": "markdown",
   "metadata": {},
   "source": [
    "#### Confusion matrix for the train data"
   ]
  },
  {
   "cell_type": "code",
   "execution_count": 645,
   "metadata": {},
   "outputs": [],
   "source": [
    "cm_train=confusion_matrix(Y0,Y0_logit).T"
   ]
  },
  {
   "cell_type": "code",
   "execution_count": 646,
   "metadata": {},
   "outputs": [
    {
     "data": {
      "image/png": "[encoded data removed]",
      "text/plain": [
       "<Figure size 576x576 with 1 Axes>"
      ]
     },
     "metadata": {
      "needs_background": "light"
     },
     "output_type": "display_data"
    }
   ],
   "source": [
    "fig, ax = plt.subplots(figsize=(8, 8))\n",
    "ax.imshow(cm_train, cmap='Pastel1_r')\n",
    "ax.yaxis.set(ticks=(0, 1), ticklabels=('Predicted 0s', 'Predicted 1s'))\n",
    "ax.xaxis.set(ticks=(0, 1), ticklabels=('Actual 0s', 'Actual 1s'))\n",
    "ax.set_ylim(1.5, -0.5)\n",
    "for i in range(2):\n",
    "    for j in range(2):\n",
    "        ax.text(j, i, cm_train[i, j], ha='center', va='center')\n",
    "plt.show()"
   ]
  },
  {
   "cell_type": "markdown",
   "metadata": {},
   "source": [
    "#### Overall accuracy, recall and specificity for train data"
   ]
  },
  {
   "cell_type": "code",
   "execution_count": 647,
   "metadata": {},
   "outputs": [
    {
     "name": "stdout",
     "output_type": "stream",
     "text": [
      "Accuracy_train: 0.6738351254480287\n",
      "Sensitivity_train: 0.683377308707124\n",
      "Specificity_train: 0.665938864628821\n"
     ]
    }
   ],
   "source": [
    "print(\"Accuracy_train:\", (cm_train[0,0]+cm_train[1,1])/len(Y0))\n",
    "print(\"Sensitivity_train:\",cm_train[1,1]/(cm_train[1,1]+cm_train[1,0]))\n",
    "print(\"Specificity_train:\",cm_train[0,0]/(cm_train[0,0]+cm_train[0,1]))"
   ]
  },
  {
   "cell_type": "markdown",
   "metadata": {},
   "source": [
    "#### Confusion matrix for the test data"
   ]
  },
  {
   "cell_type": "code",
   "execution_count": 648,
   "metadata": {},
   "outputs": [],
   "source": [
    "cm_test = confusion_matrix(Y1,Y1_logit).T"
   ]
  },
  {
   "cell_type": "code",
   "execution_count": 649,
   "metadata": {},
   "outputs": [
    {
     "data": {
      "image/png": "[encoded data removed]",
      "text/plain": [
       "<Figure size 576x576 with 1 Axes>"
      ]
     },
     "metadata": {
      "needs_background": "light"
     },
     "output_type": "display_data"
    }
   ],
   "source": [
    "fig, ax = plt.subplots(figsize=(8, 8))\n",
    "ax.imshow(cm_test, cmap='Pastel1_r')\n",
    "ax.yaxis.set(ticks=(0, 1), ticklabels=('Predicted 0s', 'Predicted 1s'))\n",
    "ax.xaxis.set(ticks=(0, 1), ticklabels=('Actual 0s', 'Actual 1s'))\n",
    "ax.set_ylim(1.5, -0.5)\n",
    "for i in range(2):\n",
    "    for j in range(2):\n",
    "        ax.text(j, i, cm_test[i, j], ha='center', va='center')\n",
    "plt.show()"
   ]
  },
  {
   "cell_type": "markdown",
   "metadata": {},
   "source": [
    "#### Overall accuracy, recall and specificity for test data"
   ]
  },
  {
   "cell_type": "code",
   "execution_count": 650,
   "metadata": {},
   "outputs": [
    {
     "name": "stdout",
     "output_type": "stream",
     "text": [
      "Accuracy_test: 0.5985663082437276\n",
      "Sensitivity_test: 0.6323529411764706\n",
      "Specificity_test: 0.5664335664335665\n"
     ]
    }
   ],
   "source": [
    "print(\"Accuracy_test:\", (cm_test[0,0]+cm_test[1,1])/len(Y1))\n",
    "print(\"Sensitivity_test:\",cm_test[1,1]/(cm_test[1,1]+cm_test[1,0]))\n",
    "print(\"Specificity_test:\",cm_test[0,0]/(cm_test[0,0]+cm_test[0,1]))"
   ]
  },
  {
   "cell_type": "markdown",
   "metadata": {},
   "source": [
    "Accuracy alone is not a good measure to lean on when the data is not balanced. However, as the churn rate indicated our dataset is balanced (churn - 50.1%, no churn - 49.8%), hence accuracy is a reliable measure for us. As it indicates 68% of the variation in our target variable churn is being explained by our independent variables, but accuracy on test is 60% meaning our model is quite overfitted."
   ]
  }
 ],
 "metadata": {
  "kernelspec": {
   "display_name": "Python 3",
   "language": "python",
   "name": "python3"
  },
  "language_info": {
   "codemirror_mode": {
    "name": "ipython",
    "version": 3
   },
   "file_extension": ".py",
   "mimetype": "text/x-python",
   "name": "python",
   "nbconvert_exporter": "python",
   "pygments_lexer": "ipython3",
   "version": "3.8.3"
  }
 },
 "nbformat": 4,
 "nbformat_minor": 4
}
